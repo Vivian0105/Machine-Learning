{
 "cells": [
  {
   "cell_type": "code",
   "execution_count": 1,
   "metadata": {},
   "outputs": [],
   "source": [
    "import numpy as np\n",
    "import pandas as pd\n",
    "import matplotlib.pyplot as plt\n",
    "from sklearn.metrics import accuracy_score\n",
    "import pickle\n",
    "import math\n",
    "from sklearn.utils import shuffle\n",
    "from sklearn.model_selection import train_test_split\n",
    "from xgboost import XGBClassifier\n",
    "import time"
   ]
  },
  {
   "cell_type": "code",
   "execution_count": 2,
   "metadata": {},
   "outputs": [],
   "source": [
    "pickle_in=open(\"DogCatX.pickle\",'rb')\n",
    "DogCatX=pickle.load(pickle_in)\n",
    "pickle_in.close()\n",
    "pickle_in=open('DogCaty.pickle','rb')\n",
    "DogCaty=pickle.load(pickle_in)\n",
    "pickle_in.close()"
   ]
  },
  {
   "cell_type": "code",
   "execution_count": 3,
   "metadata": {},
   "outputs": [],
   "source": [
    "DogCatX=np.reshape(DogCatX,(24946,2500))\n",
    "DogCatX,DogCaty=shuffle(DogCatX,DogCaty,random_state=0)\n",
    "X_train,X_test,y_train,y_test=train_test_split(DogCatX,DogCaty,random_state=5,test_size=0.25)"
   ]
  },
  {
   "cell_type": "code",
   "execution_count": 4,
   "metadata": {},
   "outputs": [],
   "source": [
    "time_start=time.clock()\n",
    "classifier=XGBClassifier()\n",
    "classifier.fit(X_train,y_train)\n",
    "y_pred=classifier.predict(np.array(X_test)\n",
    "                        )\n",
    "time_eclapsed=time.clock()-time_start"
   ]
  },
  {
   "cell_type": "code",
   "execution_count": 5,
   "metadata": {},
   "outputs": [
    {
     "data": {
      "text/plain": [
       "0.634760301426968"
      ]
     },
     "execution_count": 5,
     "metadata": {},
     "output_type": "execute_result"
    }
   ],
   "source": [
    "accuracy_score(y_test,y_pred)"
   ]
  },
  {
   "cell_type": "code",
   "execution_count": 10,
   "metadata": {},
   "outputs": [],
   "source": [
    "train_size=list(range(2,11,2))\n",
    "train_size[:]=[x/10 for x in train_size]\n",
    "errorate_train=[]\n",
    "errorate_test=[]\n",
    "learn_time=[]\n",
    "for n in train_size:\n",
    "    X_train,y_train=shuffle(X_train,y_train,random_state=0)\n",
    "    X_train_sub=X_train[:int(len(X_train)*n)]\n",
    "    y_train_sub=y_train[:int(len(y_train)*n)]\n",
    "    time_start=time.clock()\n",
    "    classifier=XGBClassifier()\n",
    "    classifier.fit(X_train_sub,y_train_sub)    \n",
    "    errorate_train.append(1-accuracy_score(y_train_sub,classifier.predict(X_train_sub)))\n",
    "    errorate_test.append(1-accuracy_score(y_test,classifier.predict(X_test)))  \n",
    "    learn_time.append(time.clock()-time_start)\n"
   ]
  },
  {
   "cell_type": "code",
   "execution_count": 11,
   "metadata": {},
   "outputs": [
    {
     "data": {
      "image/png": "[encoded data removed]",
      "text/plain": [
       "<Figure size 432x288 with 1 Axes>"
      ]
     },
     "metadata": {},
     "output_type": "display_data"
    }
   ],
   "source": [
    "plt.plot(train_size,errorate_train,'r--',train_size,errorate_test,'b--')\n",
    "plt.axis([0,1.1,0,1])\n",
    "plt.ylabel('Error Rate')\n",
    "plt.xlabel('Training Size')\n",
    "plt.title('Boosting Result')\n",
    "plt.savefig('E:/Machine Learning/HW1/DogCat/DogCat_Boosting_Error.png')\n"
   ]
  },
  {
   "cell_type": "code",
   "execution_count": 14,
   "metadata": {},
   "outputs": [
    {
     "data": {
      "image/png": "[encoded data removed]",
      "text/plain": [
       "<Figure size 432x288 with 1 Axes>"
      ]
     },
     "metadata": {},
     "output_type": "display_data"
    }
   ],
   "source": [
    "plt.plot(train_size,learn_time,'go')\n",
    "plt.axis([0,1.1,0,120])\n",
    "plt.ylabel('Time (s)')\n",
    "plt.xlabel('Training Size')\n",
    "plt.title('Boosting Result')\n",
    "plt.savefig('E:/Machine Learning/HW1/DogCat/DogCat_Boosting_T.png')"
   ]
  },
  {
   "cell_type": "code",
   "execution_count": 13,
   "metadata": {},
   "outputs": [
    {
     "data": {
      "text/plain": [
       "[0.3804713804713805,\n",
       " 0.3674843674843675,\n",
       " 0.36251402918069586,\n",
       " 0.3607503607503607,\n",
       " 0.36523969857303196]"
      ]
     },
     "execution_count": 13,
     "metadata": {},
     "output_type": "execute_result"
    }
   ],
   "source": [
    "errorate_test"
   ]
  },
  {
   "cell_type": "code",
   "execution_count": 15,
   "metadata": {},
   "outputs": [],
   "source": [
    "from sklearn.model_selection import RandomizedSearchCV"
   ]
  },
  {
   "cell_type": "code",
   "execution_count": 17,
   "metadata": {},
   "outputs": [],
   "source": [
    "param_dist={ \n",
    "            'max_depth':[5,6,7,8,9],\n",
    "            'subsample':[0.5,0.75,1],\n",
    "            'objective':['reg:linear','reg:logistic']\n",
    "}\n",
    "boosting=XGBClassifier()\n",
    "boosting_cv=RandomizedSearchCV(boosting,param_dist,cv=5)"
   ]
  },
  {
   "cell_type": "code",
   "execution_count": null,
   "metadata": {},
   "outputs": [],
   "source": [
    "boosting_cv.fit(X_train,y_train)"
   ]
  },
  {
   "cell_type": "code",
   "execution_count": null,
   "metadata": {},
   "outputs": [],
   "source": []
  }
 ],
 "metadata": {
  "kernelspec": {
   "display_name": "Python 3",
   "language": "python",
   "name": "python3"
  },
  "language_info": {
   "codemirror_mode": {
    "name": "ipython",
    "version": 3
   },
   "file_extension": ".py",
   "mimetype": "text/x-python",
   "name": "python",
   "nbconvert_exporter": "python",
   "pygments_lexer": "ipython3",
   "version": "3.6.5"
  }
 },
 "nbformat": 4,
 "nbformat_minor": 2
}
