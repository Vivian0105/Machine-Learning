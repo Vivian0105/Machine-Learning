{
 "cells": [
  {
   "cell_type": "code",
   "execution_count": 81,
   "metadata": {},
   "outputs": [],
   "source": [
    "from imblearn.under_sampling import RandomUnderSampler\n",
    "from collections import Counter\n",
    "import numpy as np\n",
    "import pandas as pd\n",
    "import matplotlib.pyplot as plt\n",
    "from sklearn.metrics import accuracy_score\n",
    "from sklearn.utils import shuffle\n",
    "from sklearn.ensemble import GradientBoostingClassifier\n",
    "import math\n",
    "from imblearn.combine import SMOTETomek\n",
    "from sklearn.model_selection import train_test_split\n",
    "from sklearn.metrics import confusion_matrix,f1_score,cohen_kappa_score\n",
    "import time\n",
    "from imblearn.under_sampling import RandomUnderSampler\n",
    "\n"
   ]
  },
  {
   "cell_type": "code",
   "execution_count": 2,
   "metadata": {},
   "outputs": [],
   "source": [
    "y=pd.read_csv('allstate_labels_2007.csv',low_memory=False)\n",
    "y=y['loan_status']\n",
    "X=pd.read_csv('allstate_filtered_loans_2007.csv',low_memory=False)"
   ]
  },
  {
   "cell_type": "code",
   "execution_count": 3,
   "metadata": {},
   "outputs": [],
   "source": [
    "X,y=shuffle(X,y,random_state=0)\n",
    "X_train_origin,X_test,y_train_origin,y_test=train_test_split(X,y,random_state=5,test_size=0.2)\n",
    "X_train=X_train_origin\n",
    "y_train=y_train_origin"
   ]
  },
  {
   "cell_type": "code",
   "execution_count": 34,
   "metadata": {},
   "outputs": [],
   "source": [
    "smt = SMOTETomek(0.5)\n",
    "X_train,y_train = smt.fit_resample(X_train_origin, y_train_origin)"
   ]
  },
  {
   "cell_type": "code",
   "execution_count": 35,
   "metadata": {},
   "outputs": [],
   "source": [
    "train_size=list(range(1,11))\n",
    "train_size[:]=[x/10 for x in train_size]\n",
    "errorate_train=[]\n",
    "errorate_test=[]\n",
    "FP_train=[]\n",
    "FP_test=[]\n",
    "train_time=[]\n",
    "for n in train_size:\n",
    "    X_train,y_train=shuffle(X_train,y_train,random_state=2)\n",
    "    X_train_sub=X_train[:int(len(X_train)*n)]\n",
    "    y_train_sub=y_train[:int(len(y_train)*n)]\n",
    "    time_start=time.clock()\n",
    "    clf_boosting=GradientBoostingClassifier(loss='exponential',subsample=0.5,max_depth=6,validation_fraction=0.1)\n",
    "    clf_boosting.fit(X_train_sub,y_train_sub)\n",
    "    y_predict_train_sub=clf_boosting.predict(X_train_sub)\n",
    "    y_predict_test=clf_boosting.predict(X_test)\n",
    "    errorate_train.append(1-accuracy_score(y_train_sub,y_predict_train_sub))\n",
    "    errorate_test.append(1-accuracy_score(y_test,y_predict_test))\n",
    "    error_train=y_predict_train_sub-y_train_sub\n",
    "    FP_train.append(Counter(error_train)[1]/Counter(y_train_sub)[0])\n",
    "    error_test=y_predict_test-y_test\n",
    "    FP_test.append(Counter(error_test)[1]/Counter(y_test)[0])\n",
    "    train_time.append(time.clock()-time_start)\n",
    "    \n"
   ]
  },
  {
   "cell_type": "code",
   "execution_count": 36,
   "metadata": {},
   "outputs": [
    {
     "name": "stdout",
     "output_type": "stream",
     "text": [
      "0.09622040323023673 0.1419146183699871 0.3000778748810245 0.9871205151793928\n"
     ]
    }
   ],
   "source": [
    "print(errorate_train[-1],errorate_test[-1],FP_train[-1],FP_test[-1])"
   ]
  },
  {
   "cell_type": "code",
   "execution_count": 9,
   "metadata": {},
   "outputs": [
    {
     "data": {
      "image/png": "[encoded data removed]",
      "text/plain": [
       "<Figure size 432x288 with 1 Axes>"
      ]
     },
     "metadata": {},
     "output_type": "display_data"
    }
   ],
   "source": [
    "plt.plot(train_size,errorate_train,'r--',train_size,errorate_test,'b--',train_size,FP_train, 'r^', train_size,FP_test, 'b^')\n",
    "plt.axis([0,1.1,0,1])\n",
    "plt.ylabel('Error Rate')\n",
    "plt.xlabel('Training Size')\n",
    "plt.title('Boosting Result')\n",
    "plt.savefig('E:/Machine Learning/HW1/Bank/Bank_Boosting_Error.png')"
   ]
  },
  {
   "cell_type": "code",
   "execution_count": 14,
   "metadata": {},
   "outputs": [
    {
     "data": {
      "text/plain": [
       "array([[  32, 1055],\n",
       "       [  41, 6602]], dtype=int64)"
      ]
     },
     "execution_count": 14,
     "metadata": {},
     "output_type": "execute_result"
    }
   ],
   "source": [
    "confusion_matrix(y_test,clf_boosting.predict(X_test))"
   ]
  },
  {
   "cell_type": "code",
   "execution_count": 13,
   "metadata": {},
   "outputs": [
    {
     "data": {
      "text/plain": [
       "[0.8877644894204232,\n",
       " 0.9392824287028518,\n",
       " 0.9475620975160993,\n",
       " 0.968721251149954,\n",
       " 0.9604415823367065,\n",
       " 0.9567617295308187,\n",
       " 0.9659613615455381,\n",
       " 0.9668813247470102,\n",
       " 0.9668813247470102,\n",
       " 0.9705611775528978]"
      ]
     },
     "execution_count": 13,
     "metadata": {},
     "output_type": "execute_result"
    }
   ],
   "source": [
    "FP_test"
   ]
  },
  {
   "cell_type": "code",
   "execution_count": 18,
   "metadata": {},
   "outputs": [
    {
     "data": {
      "image/png": "[encoded data removed]",
      "text/plain": [
       "<Figure size 432x288 with 1 Axes>"
      ]
     },
     "metadata": {},
     "output_type": "display_data"
    }
   ],
   "source": [
    "plt.plot(train_size,train_time,'go')\n",
    "plt.axis([0,1.1,0,35])\n",
    "plt.ylabel('Time (s)')\n",
    "plt.xlabel('Training Size')\n",
    "plt.title('Boosting Result')\n",
    "plt.savefig('E:/Machine Learning/HW1/Bank/Bank_boosting_T.png')"
   ]
  },
  {
   "cell_type": "code",
   "execution_count": 4,
   "metadata": {},
   "outputs": [],
   "source": [
    "from imblearn.under_sampling import RandomUnderSampler"
   ]
  },
  {
   "cell_type": "code",
   "execution_count": 19,
   "metadata": {},
   "outputs": [],
   "source": [
    "rus=RandomUnderSampler(random_state=10, sampling_strategy=0.5)"
   ]
  },
  {
   "cell_type": "code",
   "execution_count": 20,
   "metadata": {},
   "outputs": [],
   "source": [
    "X_res,y_res=rus.fit_resample(X_train_origin, y_train_origin)"
   ]
  },
  {
   "cell_type": "code",
   "execution_count": 23,
   "metadata": {},
   "outputs": [
    {
     "data": {
      "text/plain": [
       "Counter({0: 4336, 1: 8672})"
      ]
     },
     "execution_count": 23,
     "metadata": {},
     "output_type": "execute_result"
    }
   ],
   "source": [
    "Counter(y_res)"
   ]
  },
  {
   "cell_type": "code",
   "execution_count": 24,
   "metadata": {},
   "outputs": [],
   "source": [
    "    clf_boosting=GradientBoostingClassifier(loss='exponential',subsample=0.5,max_depth=6,validation_fraction=0.1)\n",
    "    clf_boosting.fit(X_res,y_res)\n",
    "    y_predict_train_res=clf_boosting.predict(X_res)\n",
    "    y_predict_test=clf_boosting.predict(X_test)\n",
    "    errorate_train_res=1-accuracy_score(y_res,y_predict_train_res)\n",
    "    errorate_test_res=1-accuracy_score(y_test,y_predict_test)\n",
    "    error_train=y_predict_train_res-y_res\n",
    "    FP_train_res=Counter(error_train)[1]/Counter(y_res)[0]\n",
    "    error_test=y_predict_test-y_test\n",
    "    FP_test_res=Counter(error_test)[1]/Counter(y_test)[0]"
   ]
  },
  {
   "cell_type": "code",
   "execution_count": 25,
   "metadata": {},
   "outputs": [
    {
     "data": {
      "text/plain": [
       "0.6936522539098436"
      ]
     },
     "execution_count": 25,
     "metadata": {},
     "output_type": "execute_result"
    }
   ],
   "source": [
    "FP_test_res"
   ]
  },
  {
   "cell_type": "code",
   "execution_count": 26,
   "metadata": {},
   "outputs": [
    {
     "data": {
      "text/plain": [
       "0.5027675276752768"
      ]
     },
     "execution_count": 26,
     "metadata": {},
     "output_type": "execute_result"
    }
   ],
   "source": [
    "FP_train_res"
   ]
  },
  {
   "cell_type": "code",
   "execution_count": 27,
   "metadata": {},
   "outputs": [
    {
     "data": {
      "text/plain": [
       "0.21513583441138417"
      ]
     },
     "execution_count": 27,
     "metadata": {},
     "output_type": "execute_result"
    }
   ],
   "source": [
    "errorate_test_res"
   ]
  },
  {
   "cell_type": "code",
   "execution_count": 28,
   "metadata": {},
   "outputs": [
    {
     "data": {
      "text/plain": [
       "0.20195264452644524"
      ]
     },
     "execution_count": 28,
     "metadata": {},
     "output_type": "execute_result"
    }
   ],
   "source": [
    "errorate_train_res"
   ]
  },
  {
   "cell_type": "code",
   "execution_count": 29,
   "metadata": {},
   "outputs": [
    {
     "data": {
      "text/plain": [
       "array([[ 333,  754],\n",
       "       [ 909, 5734]], dtype=int64)"
      ]
     },
     "execution_count": 29,
     "metadata": {},
     "output_type": "execute_result"
    }
   ],
   "source": [
    "confusion_matrix(y_test,y_predict_test)"
   ]
  },
  {
   "cell_type": "code",
   "execution_count": 77,
   "metadata": {},
   "outputs": [],
   "source": []
  },
  {
   "cell_type": "code",
   "execution_count": 82,
   "metadata": {},
   "outputs": [],
   "source": [
    "res=RandomUnderSampler()"
   ]
  },
  {
   "cell_type": "code",
   "execution_count": 83,
   "metadata": {},
   "outputs": [],
   "source": [
    "X_res,y_res=res.fit_resample(X_train_origin, y_train_origin)"
   ]
  },
  {
   "cell_type": "code",
   "execution_count": 84,
   "metadata": {},
   "outputs": [
    {
     "data": {
      "text/plain": [
       "1.0"
      ]
     },
     "execution_count": 84,
     "metadata": {},
     "output_type": "execute_result"
    }
   ],
   "source": [
    "Counter(y_res)[1]/Counter(y_res)[0]"
   ]
  },
  {
   "cell_type": "code",
   "execution_count": 85,
   "metadata": {},
   "outputs": [],
   "source": [
    "    clf_boosting=GradientBoostingClassifier(loss='exponential',subsample=0.5,max_depth=6,validation_fraction=0.1)\n",
    "    clf_boosting.fit(X_res,y_res)\n",
    "    y_predict_train_res=clf_boosting.predict(X_res)\n",
    "    y_predict_test=clf_boosting.predict(X_test)\n",
    "    errorate_train_res=1-accuracy_score(y_res,y_predict_train_res)\n",
    "    errorate_test_res=1-accuracy_score(y_test,y_predict_test)\n",
    "    error_train=y_predict_train_res-y_res\n",
    "    FP_train_res=Counter(error_train)[1]/Counter(y_res)[0]\n",
    "    error_test=y_predict_test-y_test\n",
    "    FP_test_res=Counter(error_test)[1]/Counter(y_test)[0]"
   ]
  },
  {
   "cell_type": "code",
   "execution_count": 86,
   "metadata": {},
   "outputs": [
    {
     "name": "stdout",
     "output_type": "stream",
     "text": [
      "0.38266494178525223 0.33946642134314625 0.19049815498154976 0.18357933579335795\n"
     ]
    }
   ],
   "source": [
    "print(errorate_test_res,FP_test_res,errorate_train_res,FP_train_res)"
   ]
  },
  {
   "cell_type": "code",
   "execution_count": 87,
   "metadata": {},
   "outputs": [
    {
     "data": {
      "text/plain": [
       "0.1460573833436124"
      ]
     },
     "execution_count": 87,
     "metadata": {},
     "output_type": "execute_result"
    }
   ],
   "source": [
    "cohen_kappa_score(y_test,y_predict_test)"
   ]
  },
  {
   "cell_type": "code",
   "execution_count": 88,
   "metadata": {},
   "outputs": [
    {
     "data": {
      "text/plain": [
       "96.71995657567264"
      ]
     },
     "execution_count": 88,
     "metadata": {},
     "output_type": "execute_result"
    }
   ],
   "source": [
    "math.sqrt(24946*0.75/2)"
   ]
  },
  {
   "cell_type": "code",
   "execution_count": null,
   "metadata": {},
   "outputs": [],
   "source": []
  }
 ],
 "metadata": {
  "kernelspec": {
   "display_name": "Python 3",
   "language": "python",
   "name": "python3"
  },
  "language_info": {
   "codemirror_mode": {
    "name": "ipython",
    "version": 3
   },
   "file_extension": ".py",
   "mimetype": "text/x-python",
   "name": "python",
   "nbconvert_exporter": "python",
   "pygments_lexer": "ipython3",
   "version": "3.6.5"
  }
 },
 "nbformat": 4,
 "nbformat_minor": 2
}
