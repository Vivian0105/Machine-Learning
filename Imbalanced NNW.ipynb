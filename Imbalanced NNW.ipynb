{
 "cells": [
  {
   "cell_type": "code",
   "execution_count": 11,
   "metadata": {},
   "outputs": [],
   "source": [
    "from imblearn.under_sampling import RandomUnderSampler\n",
    "from collections import Counter\n",
    "import numpy as np\n",
    "import pandas as pd\n",
    "import matplotlib.pyplot as plt\n",
    "from sklearn.metrics import accuracy_score\n",
    "from sklearn.utils import shuffle\n",
    "import math\n",
    "import time\n",
    "import tensorflow as tf\n",
    "from tensorflow.keras.models import Sequential\n",
    "from tensorflow.keras.layers import Dense, Activation, Flatten\n",
    "from imblearn.combine import SMOTETomek\n",
    "from sklearn.model_selection import train_test_split\n",
    "from sklearn.metrics import confusion_matrix, cohen_kappa_score\n",
    "from keras.utils import np_utils\n",
    "import sklearn"
   ]
  },
  {
   "cell_type": "code",
   "execution_count": 2,
   "metadata": {},
   "outputs": [],
   "source": [
    "y=pd.read_csv('allstate_labels_2007.csv',low_memory=False)\n",
    "y=np.array(y['loan_status'])\n",
    "X=pd.read_csv('allstate_filtered_loans_2007.csv',low_memory=False)\n",
    "X=np.array(X)"
   ]
  },
  {
   "cell_type": "code",
   "execution_count": 3,
   "metadata": {},
   "outputs": [],
   "source": [
    "X,y=shuffle(X,y,random_state=0)\n",
    "X=tf.keras.utils.normalize(X,axis=1)\n",
    "X_train_origin,X_test,y_train_origin,y_test=train_test_split(X,y,random_state=5,test_size=0.2)\n",
    "X_train=X_train_origin\n",
    "y_train=y_train_origin"
   ]
  },
  {
   "cell_type": "code",
   "execution_count": 5,
   "metadata": {},
   "outputs": [],
   "source": [
    "smt = SMOTETomek(1)\n",
    "X_train,y_train = smt.fit_resample(X_train_origin, y_train_origin)\n",
    "y_train_encoding=np_utils.to_categorical(y_train)\n",
    "y_test_encoding=np_utils.to_categorical(y_test)"
   ]
  },
  {
   "cell_type": "code",
   "execution_count": 30,
   "metadata": {
    "scrolled": true
   },
   "outputs": [
    {
     "name": "stdout",
     "output_type": "stream",
     "text": [
      "Train on 9904 samples, validate on 7730 samples\n",
      "Epoch 1/25\n",
      "9904/9904 [==============================] - 2s 154us/step - loss: 0.6841 - acc: 0.5511 - val_loss: 0.6979 - val_acc: 0.5589\n",
      "Epoch 2/25\n",
      "9904/9904 [==============================] - 1s 57us/step - loss: 0.6797 - acc: 0.5683 - val_loss: 0.6512 - val_acc: 0.6594\n",
      "Epoch 3/25\n",
      "9904/9904 [==============================] - 0s 50us/step - loss: 0.6782 - acc: 0.5776 - val_loss: 0.7060 - val_acc: 0.5560\n",
      "Epoch 4/25\n",
      "9904/9904 [==============================] - 0s 49us/step - loss: 0.6781 - acc: 0.5715 - val_loss: 0.6781 - val_acc: 0.6163\n",
      "Epoch 5/25\n",
      "9904/9904 [==============================] - 1s 67us/step - loss: 0.6777 - acc: 0.5717 - val_loss: 0.6466 - val_acc: 0.6961\n",
      "Epoch 6/25\n",
      "9904/9904 [==============================] - 1s 51us/step - loss: 0.6782 - acc: 0.5716 - val_loss: 0.6610 - val_acc: 0.6700\n",
      "Epoch 7/25\n",
      "9904/9904 [==============================] - 1s 54us/step - loss: 0.6777 - acc: 0.5736 - val_loss: 0.6734 - val_acc: 0.6480\n",
      "Epoch 8/25\n",
      "9904/9904 [==============================] - 0s 49us/step - loss: 0.6774 - acc: 0.5730 - val_loss: 0.6820 - val_acc: 0.6147\n",
      "Epoch 9/25\n",
      "9904/9904 [==============================] - 1s 55us/step - loss: 0.6772 - acc: 0.5756 - val_loss: 0.6500 - val_acc: 0.6890\n",
      "Epoch 10/25\n",
      "9904/9904 [==============================] - 1s 67us/step - loss: 0.6768 - acc: 0.5765 - val_loss: 0.7027 - val_acc: 0.5683\n",
      "Epoch 11/25\n",
      "9904/9904 [==============================] - 1s 61us/step - loss: 0.6767 - acc: 0.5768 - val_loss: 0.6370 - val_acc: 0.6978\n",
      "Epoch 12/25\n",
      "9904/9904 [==============================] - 1s 56us/step - loss: 0.6771 - acc: 0.5731 - val_loss: 0.6896 - val_acc: 0.6012\n",
      "Epoch 13/25\n",
      "9904/9904 [==============================] - 1s 56us/step - loss: 0.6767 - acc: 0.5775 - val_loss: 0.6856 - val_acc: 0.6039\n",
      "Epoch 14/25\n",
      "9904/9904 [==============================] - 1s 69us/step - loss: 0.6769 - acc: 0.5745 - val_loss: 0.6692 - val_acc: 0.6380\n",
      "Epoch 15/25\n",
      "9904/9904 [==============================] - 1s 61us/step - loss: 0.6761 - acc: 0.5749 - val_loss: 0.6379 - val_acc: 0.6951\n",
      "Epoch 16/25\n",
      "9904/9904 [==============================] - 1s 87us/step - loss: 0.6763 - acc: 0.5800 - val_loss: 0.6488 - val_acc: 0.6653\n",
      "Epoch 17/25\n",
      "9904/9904 [==============================] - 1s 50us/step - loss: 0.6760 - acc: 0.5751 - val_loss: 0.6966 - val_acc: 0.5732\n",
      "Epoch 18/25\n",
      "9904/9904 [==============================] - 1s 53us/step - loss: 0.6765 - acc: 0.5734 - val_loss: 0.6546 - val_acc: 0.6608\n",
      "Epoch 19/25\n",
      "9904/9904 [==============================] - 1s 51us/step - loss: 0.6764 - acc: 0.5744 - val_loss: 0.6216 - val_acc: 0.7238\n",
      "Epoch 20/25\n",
      "9904/9904 [==============================] - 0s 50us/step - loss: 0.6767 - acc: 0.5740 - val_loss: 0.6622 - val_acc: 0.6493\n",
      "Epoch 21/25\n",
      "9904/9904 [==============================] - 0s 49us/step - loss: 0.6762 - acc: 0.5721 - val_loss: 0.6722 - val_acc: 0.6361\n",
      "Epoch 22/25\n",
      "9904/9904 [==============================] - 0s 49us/step - loss: 0.6761 - acc: 0.5756 - val_loss: 0.7020 - val_acc: 0.5705\n",
      "Epoch 23/25\n",
      "9904/9904 [==============================] - 1s 51us/step - loss: 0.6762 - acc: 0.5730 - val_loss: 0.6937 - val_acc: 0.5908\n",
      "Epoch 24/25\n",
      "9904/9904 [==============================] - 0s 50us/step - loss: 0.6767 - acc: 0.5760 - val_loss: 0.6632 - val_acc: 0.6485\n",
      "Epoch 25/25\n",
      "9904/9904 [==============================] - 1s 54us/step - loss: 0.6761 - acc: 0.5767 - val_loss: 0.6626 - val_acc: 0.6497\n",
      "9904/9904 [==============================] - 0s 25us/step\n",
      "7730/7730 [==============================] - 0s 22us/step\n",
      "Train on 19808 samples, validate on 7730 samples\n",
      "Epoch 1/25\n",
      "19808/19808 [==============================] - 2s 108us/step - loss: 0.6825 - acc: 0.5545 - val_loss: 0.6216 - val_acc: 0.7207\n",
      "Epoch 2/25\n",
      "19808/19808 [==============================] - 1s 67us/step - loss: 0.6807 - acc: 0.5634 - val_loss: 0.7134 - val_acc: 0.5445\n",
      "Epoch 3/25\n",
      "19808/19808 [==============================] - 1s 37us/step - loss: 0.6798 - acc: 0.5658 - val_loss: 0.7140 - val_acc: 0.5406\n",
      "Epoch 4/25\n",
      "19808/19808 [==============================] - 1s 39us/step - loss: 0.6795 - acc: 0.5641 - val_loss: 0.6599 - val_acc: 0.6454\n",
      "Epoch 5/25\n",
      "19808/19808 [==============================] - 1s 36us/step - loss: 0.6789 - acc: 0.5645 - val_loss: 0.6810 - val_acc: 0.6039\n",
      "Epoch 6/25\n",
      "19808/19808 [==============================] - 1s 45us/step - loss: 0.6790 - acc: 0.5635 - val_loss: 0.6777 - val_acc: 0.6107\n",
      "Epoch 7/25\n",
      "19808/19808 [==============================] - 1s 37us/step - loss: 0.6789 - acc: 0.5644 - val_loss: 0.6635 - val_acc: 0.6379\n",
      "Epoch 8/25\n",
      "19808/19808 [==============================] - 1s 40us/step - loss: 0.6788 - acc: 0.5673 - val_loss: 0.7166 - val_acc: 0.5277\n",
      "Epoch 9/25\n",
      "19808/19808 [==============================] - 1s 41us/step - loss: 0.6786 - acc: 0.5625 - val_loss: 0.6463 - val_acc: 0.6727\n",
      "Epoch 10/25\n",
      "19808/19808 [==============================] - 1s 50us/step - loss: 0.6781 - acc: 0.5645 - val_loss: 0.6628 - val_acc: 0.6391\n",
      "Epoch 11/25\n",
      "19808/19808 [==============================] - 1s 42us/step - loss: 0.6780 - acc: 0.5666 - val_loss: 0.6659 - val_acc: 0.6473\n",
      "Epoch 12/25\n",
      "19808/19808 [==============================] - 1s 37us/step - loss: 0.6776 - acc: 0.5670 - val_loss: 0.7231 - val_acc: 0.5041\n",
      "Epoch 13/25\n",
      "19808/19808 [==============================] - 1s 40us/step - loss: 0.6775 - acc: 0.5661 - val_loss: 0.6637 - val_acc: 0.6329\n",
      "Epoch 14/25\n",
      "19808/19808 [==============================] - 1s 53us/step - loss: 0.6770 - acc: 0.5708 - val_loss: 0.6803 - val_acc: 0.6146\n",
      "Epoch 15/25\n",
      "19808/19808 [==============================] - 1s 55us/step - loss: 0.6769 - acc: 0.5697 - val_loss: 0.6632 - val_acc: 0.6371\n",
      "Epoch 16/25\n",
      "19808/19808 [==============================] - 1s 68us/step - loss: 0.6771 - acc: 0.5702 - val_loss: 0.7412 - val_acc: 0.4697\n",
      "Epoch 17/25\n",
      "19808/19808 [==============================] - 1s 45us/step - loss: 0.6766 - acc: 0.5693 - val_loss: 0.6819 - val_acc: 0.6045\n",
      "Epoch 18/25\n",
      "19808/19808 [==============================] - 1s 37us/step - loss: 0.6761 - acc: 0.5724 - val_loss: 0.6798 - val_acc: 0.6008\n",
      "Epoch 19/25\n",
      "19808/19808 [==============================] - 1s 35us/step - loss: 0.6760 - acc: 0.5722 - val_loss: 0.6433 - val_acc: 0.6723\n",
      "Epoch 20/25\n",
      "19808/19808 [==============================] - 1s 36us/step - loss: 0.6761 - acc: 0.5727 - val_loss: 0.6751 - val_acc: 0.6056\n",
      "Epoch 21/25\n",
      "19808/19808 [==============================] - 1s 35us/step - loss: 0.6752 - acc: 0.5743 - val_loss: 0.6966 - val_acc: 0.5605\n",
      "Epoch 22/25\n",
      "19808/19808 [==============================] - 1s 34us/step - loss: 0.6753 - acc: 0.5743 - val_loss: 0.6251 - val_acc: 0.7084\n",
      "Epoch 23/25\n",
      "19808/19808 [==============================] - 1s 36us/step - loss: 0.6748 - acc: 0.5744 - val_loss: 0.6518 - val_acc: 0.6484\n",
      "Epoch 24/25\n",
      "19808/19808 [==============================] - 1s 35us/step - loss: 0.6735 - acc: 0.5773 - val_loss: 0.6082 - val_acc: 0.7144\n",
      "Epoch 25/25\n",
      "19808/19808 [==============================] - 1s 35us/step - loss: 0.6728 - acc: 0.5783 - val_loss: 0.6536 - val_acc: 0.6442\n",
      "19808/19808 [==============================] - 0s 13us/step\n",
      "7730/7730 [==============================] - 0s 12us/step\n",
      "Train on 29712 samples, validate on 7730 samples\n",
      "Epoch 1/25\n",
      "29712/29712 [==============================] - 2s 69us/step - loss: 0.6816 - acc: 0.5629 - val_loss: 0.6614 - val_acc: 0.6281\n",
      "Epoch 2/25\n",
      "29712/29712 [==============================] - 1s 34us/step - loss: 0.6788 - acc: 0.5682 - val_loss: 0.6641 - val_acc: 0.6294\n",
      "Epoch 3/25\n",
      "29712/29712 [==============================] - 1s 34us/step - loss: 0.6781 - acc: 0.5689 - val_loss: 0.7124 - val_acc: 0.5367\n",
      "Epoch 4/25\n",
      "29712/29712 [==============================] - 1s 34us/step - loss: 0.6778 - acc: 0.5658 - val_loss: 0.6765 - val_acc: 0.6131\n",
      "Epoch 5/25\n",
      "29712/29712 [==============================] - 1s 34us/step - loss: 0.6773 - acc: 0.5694 - val_loss: 0.6968 - val_acc: 0.5539\n",
      "Epoch 6/25\n",
      "29712/29712 [==============================] - 1s 34us/step - loss: 0.6767 - acc: 0.5727 - val_loss: 0.6470 - val_acc: 0.6734\n",
      "Epoch 7/25\n",
      "29712/29712 [==============================] - 1s 34us/step - loss: 0.6763 - acc: 0.5724 - val_loss: 0.6729 - val_acc: 0.6326\n",
      "Epoch 8/25\n",
      "29712/29712 [==============================] - 1s 33us/step - loss: 0.6762 - acc: 0.5725 - val_loss: 0.7340 - val_acc: 0.4699\n",
      "Epoch 9/25\n",
      "29712/29712 [==============================] - 1s 34us/step - loss: 0.6758 - acc: 0.5730 - val_loss: 0.6846 - val_acc: 0.5596\n",
      "Epoch 10/25\n",
      "29712/29712 [==============================] - 1s 34us/step - loss: 0.6756 - acc: 0.5742 - val_loss: 0.6577 - val_acc: 0.6471\n",
      "Epoch 11/25\n",
      "29712/29712 [==============================] - 1s 34us/step - loss: 0.6749 - acc: 0.5735 - val_loss: 0.7175 - val_acc: 0.5169\n",
      "Epoch 12/25\n",
      "29712/29712 [==============================] - 1s 34us/step - loss: 0.6741 - acc: 0.5771 - val_loss: 0.6716 - val_acc: 0.6428\n",
      "Epoch 13/25\n",
      "29712/29712 [==============================] - 1s 33us/step - loss: 0.6736 - acc: 0.5760 - val_loss: 0.6739 - val_acc: 0.5881\n",
      "Epoch 14/25\n",
      "29712/29712 [==============================] - 1s 34us/step - loss: 0.6723 - acc: 0.5802 - val_loss: 0.7065 - val_acc: 0.5163\n",
      "Epoch 15/25\n",
      "29712/29712 [==============================] - 1s 34us/step - loss: 0.6713 - acc: 0.5812 - val_loss: 0.6776 - val_acc: 0.5753\n",
      "Epoch 16/25\n",
      "29712/29712 [==============================] - 1s 33us/step - loss: 0.6710 - acc: 0.5842 - val_loss: 0.6843 - val_acc: 0.5736\n",
      "Epoch 17/25\n",
      "29712/29712 [==============================] - 1s 34us/step - loss: 0.6690 - acc: 0.5876 - val_loss: 0.5602 - val_acc: 0.7605\n",
      "Epoch 18/25\n",
      "29712/29712 [==============================] - 1s 34us/step - loss: 0.6672 - acc: 0.5918 - val_loss: 0.6496 - val_acc: 0.6327\n",
      "Epoch 19/25\n",
      "29712/29712 [==============================] - 1s 34us/step - loss: 0.6651 - acc: 0.5923 - val_loss: 0.7022 - val_acc: 0.5493\n",
      "Epoch 20/25\n",
      "29712/29712 [==============================] - 1s 33us/step - loss: 0.6628 - acc: 0.5992 - val_loss: 0.6948 - val_acc: 0.5671\n",
      "Epoch 21/25\n",
      "29712/29712 [==============================] - 1s 33us/step - loss: 0.6617 - acc: 0.6018 - val_loss: 0.5840 - val_acc: 0.7254\n",
      "Epoch 22/25\n",
      "29712/29712 [==============================] - 1s 33us/step - loss: 0.6591 - acc: 0.6051 - val_loss: 0.6900 - val_acc: 0.5370\n",
      "Epoch 23/25\n",
      "29712/29712 [==============================] - 1s 33us/step - loss: 0.6610 - acc: 0.6014 - val_loss: 0.6847 - val_acc: 0.5437\n",
      "Epoch 24/25\n",
      "29712/29712 [==============================] - 1s 34us/step - loss: 0.6567 - acc: 0.6115 - val_loss: 0.6336 - val_acc: 0.6352\n",
      "Epoch 25/25\n",
      "29712/29712 [==============================] - 1s 33us/step - loss: 0.6546 - acc: 0.6124 - val_loss: 0.5745 - val_acc: 0.6990\n",
      "29712/29712 [==============================] - 0s 13us/step\n",
      "7730/7730 [==============================] - 0s 13us/step\n",
      "Train on 39616 samples, validate on 7730 samples\n",
      "Epoch 1/25\n",
      "39616/39616 [==============================] - 2s 59us/step - loss: 0.6809 - acc: 0.5620 - val_loss: 0.6423 - val_acc: 0.6824\n",
      "Epoch 2/25\n",
      "39616/39616 [==============================] - 1s 34us/step - loss: 0.6785 - acc: 0.5685 - val_loss: 0.6864 - val_acc: 0.5833\n",
      "Epoch 3/25\n",
      "39616/39616 [==============================] - 1s 33us/step - loss: 0.6783 - acc: 0.5692 - val_loss: 0.6405 - val_acc: 0.6931\n",
      "Epoch 4/25\n",
      "39616/39616 [==============================] - 1s 33us/step - loss: 0.6778 - acc: 0.5673 - val_loss: 0.7020 - val_acc: 0.5560\n",
      "Epoch 5/25\n",
      "39616/39616 [==============================] - 1s 33us/step - loss: 0.6770 - acc: 0.5702 - val_loss: 0.6697 - val_acc: 0.6092\n",
      "Epoch 6/25\n",
      "39616/39616 [==============================] - 1s 33us/step - loss: 0.6767 - acc: 0.5700 - val_loss: 0.7261 - val_acc: 0.4787\n",
      "Epoch 7/25\n",
      "39616/39616 [==============================] - 1s 33us/step - loss: 0.6759 - acc: 0.5736 - val_loss: 0.6454 - val_acc: 0.6503\n",
      "Epoch 8/25\n",
      "39616/39616 [==============================] - 1s 33us/step - loss: 0.6755 - acc: 0.5750 - val_loss: 0.6465 - val_acc: 0.6581\n",
      "Epoch 9/25\n",
      "39616/39616 [==============================] - 1s 33us/step - loss: 0.6742 - acc: 0.5768 - val_loss: 0.6681 - val_acc: 0.6185\n",
      "Epoch 10/25\n",
      "39616/39616 [==============================] - 1s 33us/step - loss: 0.6722 - acc: 0.5799 - val_loss: 0.6320 - val_acc: 0.7000\n",
      "Epoch 11/25\n",
      "39616/39616 [==============================] - 1s 34us/step - loss: 0.6710 - acc: 0.5845 - val_loss: 0.6398 - val_acc: 0.6547\n",
      "Epoch 12/25\n",
      "39616/39616 [==============================] - 1s 35us/step - loss: 0.6681 - acc: 0.5897 - val_loss: 0.6893 - val_acc: 0.5525\n",
      "Epoch 13/25\n",
      "39616/39616 [==============================] - 1s 34us/step - loss: 0.6665 - acc: 0.5908 - val_loss: 0.6306 - val_acc: 0.6571\n",
      "Epoch 14/25\n",
      "39616/39616 [==============================] - 1s 34us/step - loss: 0.6632 - acc: 0.5974 - val_loss: 0.6375 - val_acc: 0.6569\n",
      "Epoch 15/25\n",
      "39616/39616 [==============================] - 1s 33us/step - loss: 0.6619 - acc: 0.6010 - val_loss: 0.6588 - val_acc: 0.6215\n",
      "Epoch 16/25\n",
      "39616/39616 [==============================] - 1s 35us/step - loss: 0.6586 - acc: 0.6074 - val_loss: 0.7129 - val_acc: 0.5168\n",
      "Epoch 17/25\n",
      "39616/39616 [==============================] - 1s 33us/step - loss: 0.6570 - acc: 0.6097 - val_loss: 0.6270 - val_acc: 0.6400\n",
      "Epoch 18/25\n",
      "39616/39616 [==============================] - 1s 33us/step - loss: 0.6559 - acc: 0.6097 - val_loss: 0.5391 - val_acc: 0.7352\n",
      "Epoch 19/25\n",
      "39616/39616 [==============================] - 1s 33us/step - loss: 0.6545 - acc: 0.6110 - val_loss: 0.6376 - val_acc: 0.5921\n",
      "Epoch 20/25\n",
      "39616/39616 [==============================] - 1s 34us/step - loss: 0.6528 - acc: 0.6143 - val_loss: 0.6360 - val_acc: 0.5990\n",
      "Epoch 21/25\n",
      "39616/39616 [==============================] - 1s 34us/step - loss: 0.6541 - acc: 0.6101 - val_loss: 0.6230 - val_acc: 0.6274\n",
      "Epoch 22/25\n",
      "39616/39616 [==============================] - 1s 33us/step - loss: 0.6512 - acc: 0.6150 - val_loss: 0.5312 - val_acc: 0.7309\n",
      "Epoch 23/25\n",
      "39616/39616 [==============================] - 1s 33us/step - loss: 0.6506 - acc: 0.6170 - val_loss: 0.6899 - val_acc: 0.5133\n",
      "Epoch 24/25\n",
      "39616/39616 [==============================] - 1s 33us/step - loss: 0.6509 - acc: 0.6162 - val_loss: 0.6941 - val_acc: 0.4988\n",
      "Epoch 25/25\n",
      "39616/39616 [==============================] - 1s 33us/step - loss: 0.6500 - acc: 0.6164 - val_loss: 0.5867 - val_acc: 0.6495\n",
      "39616/39616 [==============================] - 1s 13us/step\n",
      "7730/7730 [==============================] - 0s 14us/step\n",
      "Train on 49520 samples, validate on 7730 samples\n",
      "Epoch 1/25\n",
      "49520/49520 [==============================] - 3s 54us/step - loss: 0.6805 - acc: 0.5649 - val_loss: 0.7129 - val_acc: 0.5199\n",
      "Epoch 2/25\n",
      "49520/49520 [==============================] - 2s 33us/step - loss: 0.6784 - acc: 0.5679 - val_loss: 0.7267 - val_acc: 0.5008\n",
      "Epoch 3/25\n",
      "49520/49520 [==============================] - 2s 34us/step - loss: 0.6779 - acc: 0.5688 - val_loss: 0.6788 - val_acc: 0.5942\n",
      "Epoch 4/25\n",
      "49520/49520 [==============================] - 2s 33us/step - loss: 0.6773 - acc: 0.5699 - val_loss: 0.6825 - val_acc: 0.5752\n",
      "Epoch 5/25\n",
      "49520/49520 [==============================] - 2s 33us/step - loss: 0.6769 - acc: 0.5713 - val_loss: 0.6649 - val_acc: 0.6185\n",
      "Epoch 6/25\n",
      "49520/49520 [==============================] - 2s 33us/step - loss: 0.6765 - acc: 0.5728 - val_loss: 0.7152 - val_acc: 0.5191\n",
      "Epoch 7/25\n",
      "49520/49520 [==============================] - 2s 34us/step - loss: 0.6756 - acc: 0.5733 - val_loss: 0.6987 - val_acc: 0.5530\n",
      "Epoch 8/25\n",
      "49520/49520 [==============================] - 2s 33us/step - loss: 0.6747 - acc: 0.5768 - val_loss: 0.6461 - val_acc: 0.6671\n",
      "Epoch 9/25\n",
      "49520/49520 [==============================] - 2s 34us/step - loss: 0.6735 - acc: 0.5775 - val_loss: 0.6868 - val_acc: 0.5757\n",
      "Epoch 10/25\n",
      "49520/49520 [==============================] - 2s 33us/step - loss: 0.6718 - acc: 0.5821 - val_loss: 0.6953 - val_acc: 0.5503\n",
      "Epoch 11/25\n",
      "49520/49520 [==============================] - 2s 33us/step - loss: 0.6692 - acc: 0.5886 - val_loss: 0.7358 - val_acc: 0.4850\n",
      "Epoch 12/25\n",
      "49520/49520 [==============================] - 2s 34us/step - loss: 0.6663 - acc: 0.5931 - val_loss: 0.6495 - val_acc: 0.6277\n",
      "Epoch 13/25\n",
      "49520/49520 [==============================] - 2s 34us/step - loss: 0.6623 - acc: 0.5996 - val_loss: 0.7177 - val_acc: 0.5116\n",
      "Epoch 14/25\n",
      "49520/49520 [==============================] - 2s 33us/step - loss: 0.6592 - acc: 0.6073 - val_loss: 0.7192 - val_acc: 0.4962\n",
      "Epoch 15/25\n"
     ]
    },
    {
     "name": "stdout",
     "output_type": "stream",
     "text": [
      "49520/49520 [==============================] - 2s 34us/step - loss: 0.6574 - acc: 0.6079 - val_loss: 0.6314 - val_acc: 0.6110\n",
      "Epoch 16/25\n",
      "49520/49520 [==============================] - 2s 33us/step - loss: 0.6546 - acc: 0.6126 - val_loss: 0.7040 - val_acc: 0.4807\n",
      "Epoch 17/25\n",
      "49520/49520 [==============================] - 2s 33us/step - loss: 0.6536 - acc: 0.6134 - val_loss: 0.6299 - val_acc: 0.6279\n",
      "Epoch 18/25\n",
      "49520/49520 [==============================] - 2s 34us/step - loss: 0.6513 - acc: 0.6174 - val_loss: 0.6749 - val_acc: 0.5088\n",
      "Epoch 19/25\n",
      "49520/49520 [==============================] - 2s 33us/step - loss: 0.6526 - acc: 0.6136 - val_loss: 0.6123 - val_acc: 0.6292\n",
      "Epoch 20/25\n",
      "49520/49520 [==============================] - 2s 33us/step - loss: 0.6502 - acc: 0.6173 - val_loss: 0.6941 - val_acc: 0.4947\n",
      "Epoch 21/25\n",
      "49520/49520 [==============================] - 2s 33us/step - loss: 0.6506 - acc: 0.6170 - val_loss: 0.6280 - val_acc: 0.5979\n",
      "Epoch 22/25\n",
      "49520/49520 [==============================] - 2s 33us/step - loss: 0.6495 - acc: 0.6179 - val_loss: 0.7103 - val_acc: 0.4868\n",
      "Epoch 23/25\n",
      "49520/49520 [==============================] - 2s 34us/step - loss: 0.6487 - acc: 0.6193 - val_loss: 0.7326 - val_acc: 0.4344\n",
      "Epoch 24/25\n",
      "49520/49520 [==============================] - 2s 33us/step - loss: 0.6481 - acc: 0.6205 - val_loss: 0.6051 - val_acc: 0.6159\n",
      "Epoch 25/25\n",
      "49520/49520 [==============================] - 2s 34us/step - loss: 0.6492 - acc: 0.6163 - val_loss: 0.7062 - val_acc: 0.4789\n",
      "49520/49520 [==============================] - 1s 14us/step\n",
      "7730/7730 [==============================] - 0s 14us/step\n"
     ]
    }
   ],
   "source": [
    "train_size=list(range(2,11,2))\n",
    "train_size[:]=[x/10 for x in train_size]\n",
    "errorate_train=[]\n",
    "errorate_test=[]\n",
    "FP_train=[]\n",
    "FP_test=[]\n",
    "train_time=[]\n",
    "for n in train_size:\n",
    "    X_train,y_train_encoding=shuffle(X_train,y_train_encoding,random_state=2)\n",
    "    X_train_sub=X_train[:int(len(X_train)*n)]\n",
    "    y_train_sub=y_train[:int(len(y_train)*n)]\n",
    "    y_train_sub_encoding=y_train_encoding[:int(len(y_train_encoding)*n)]\n",
    "    time_start=time.clock()\n",
    "    model=Sequential()\n",
    "    model.add(Dense(60,input_dim=37,activation=tf.nn.relu))\n",
    "    model.add(Dense(60,activation=tf.nn.relu))\n",
    "    model.add(Dense(2,activation=tf.nn.softmax))\n",
    "    model.compile(optimizer='adam',loss='categorical_crossentropy',\n",
    "                  metrics=['accuracy'])\n",
    "    history=model.fit(X_train_sub,y_train_sub_encoding,epochs=25,validation_data = (X_test, y_test_encoding))\n",
    "    errorate_train.append(1-model.evaluate(X_train_sub,y_train_sub_encoding)[1])\n",
    "    errorate_test.append(1-model.evaluate(X_test,y_test_encoding)[1])\n",
    "    error_train=np.argmax(model.predict(X_train_sub),axis=1)-y_train_sub\n",
    "    FP_train.append(Counter(error_train)[1]/Counter(y_train_sub)[0])\n",
    "    error_test=np.argmax(model.predict(X_test),axis=1)-y_test\n",
    "    FP_test.append(Counter(error_test)[1]/Counter(y_test)[0])\n",
    "    train_time.append(time.clock()-time_start)\n"
   ]
  },
  {
   "cell_type": "code",
   "execution_count": 31,
   "metadata": {},
   "outputs": [
    {
     "data": {
      "image/png": "[encoded data removed]",
      "text/plain": [
       "<Figure size 432x288 with 1 Axes>"
      ]
     },
     "metadata": {},
     "output_type": "display_data"
    }
   ],
   "source": [
    "plt.plot(train_size,errorate_train,'r--',train_size,errorate_test,'b--',train_size,FP_train, 'r^', train_size,FP_test, 'b^')\n",
    "plt.axis([0,1.1,0,1])\n",
    "plt.ylabel('Error Rate')\n",
    "plt.xlabel('Training Size')\n",
    "plt.title('Nueral Network Result')\n",
    "plt.savefig('E:/Machine Learning/HW1/Bank/Bank_NN_Error.png')"
   ]
  },
  {
   "cell_type": "code",
   "execution_count": 35,
   "metadata": {},
   "outputs": [
    {
     "data": {
      "text/plain": [
       "[0.3503234152189356,\n",
       " 0.3557567916743043,\n",
       " 0.30103492886406324,\n",
       " 0.350452781402124,\n",
       " 0.5210866752756521]"
      ]
     },
     "execution_count": 35,
     "metadata": {},
     "output_type": "execute_result"
    }
   ],
   "source": [
    "errorate_test"
   ]
  },
  {
   "cell_type": "code",
   "execution_count": 36,
   "metadata": {},
   "outputs": [
    {
     "data": {
      "text/plain": [
       "[0.577736890524379,\n",
       " 0.5446182152713891,\n",
       " 0.5850965961361545,\n",
       " 0.48574057037718493,\n",
       " 0.24379024839006438]"
      ]
     },
     "execution_count": 36,
     "metadata": {},
     "output_type": "execute_result"
    }
   ],
   "source": [
    "FP_test"
   ]
  },
  {
   "cell_type": "code",
   "execution_count": 37,
   "metadata": {},
   "outputs": [
    {
     "data": {
      "text/plain": [
       "array([[ 822,  265],\n",
       "       [3763, 2880]], dtype=int64)"
      ]
     },
     "execution_count": 37,
     "metadata": {},
     "output_type": "execute_result"
    }
   ],
   "source": [
    "confusion_matrix(y_test,np.argmax(model.predict(X_test),axis=1))"
   ]
  },
  {
   "cell_type": "code",
   "execution_count": 12,
   "metadata": {},
   "outputs": [
    {
     "data": {
      "text/plain": [
       "0.0866388986873674"
      ]
     },
     "execution_count": 12,
     "metadata": {},
     "output_type": "execute_result"
    }
   ],
   "source": [
    "cohen_kappa_score(y_test,np.argmax(model.predict(X_test),axis=1))"
   ]
  },
  {
   "cell_type": "code",
   "execution_count": 39,
   "metadata": {},
   "outputs": [
    {
     "data": {
      "text/plain": [
       "0.8985476741738582"
      ]
     },
     "execution_count": 39,
     "metadata": {},
     "output_type": "execute_result"
    }
   ],
   "source": [
    "Precision=4269/(4269+482)\n",
    "Precision"
   ]
  },
  {
   "cell_type": "code",
   "execution_count": 40,
   "metadata": {},
   "outputs": [
    {
     "data": {
      "text/plain": [
       "0.6426313412614783"
      ]
     },
     "execution_count": 40,
     "metadata": {},
     "output_type": "execute_result"
    }
   ],
   "source": [
    "recall=4269/(4269+2374)\n",
    "recall"
   ]
  },
  {
   "cell_type": "code",
   "execution_count": 42,
   "metadata": {},
   "outputs": [
    {
     "data": {
      "text/plain": [
       "[16.232506101718627,\n",
       " 23.694013323040508,\n",
       " 27.837120652451176,\n",
       " 36.1749583408066,\n",
       " 44.62373076743802]"
      ]
     },
     "execution_count": 42,
     "metadata": {},
     "output_type": "execute_result"
    }
   ],
   "source": [
    "train_time"
   ]
  },
  {
   "cell_type": "code",
   "execution_count": 44,
   "metadata": {},
   "outputs": [
    {
     "data": {
      "image/png": "[encoded data removed]",
      "text/plain": [
       "<Figure size 432x288 with 1 Axes>"
      ]
     },
     "metadata": {},
     "output_type": "display_data"
    }
   ],
   "source": [
    "plt.plot(train_size,train_time,'go')\n",
    "plt.axis([0,1.1,0,50])\n",
    "plt.ylabel('Time (s)')\n",
    "plt.xlabel('Training Size')\n",
    "plt.title('Neural Network Result')\n",
    "plt.savefig('E:/Machine Learning/HW1/Bank/Bank_NN_T.png')"
   ]
  },
  {
   "cell_type": "code",
   "execution_count": 45,
   "metadata": {},
   "outputs": [],
   "source": [
    "acc=[1-x for x in history.history['acc']]\n",
    "test_acc=[1-x for x in history.history['val_acc']]\n",
    "epoch=list(range(1,26))"
   ]
  },
  {
   "cell_type": "code",
   "execution_count": 46,
   "metadata": {},
   "outputs": [
    {
     "data": {
      "image/png": "[encoded data removed]",
      "text/plain": [
       "<Figure size 432x288 with 1 Axes>"
      ]
     },
     "metadata": {},
     "output_type": "display_data"
    }
   ],
   "source": [
    "plt.plot(epoch,acc,'y--',epoch,test_acc,'m--')\n",
    "plt.axis([0,26,0,1])\n",
    "plt.ylabel('Error Rate')\n",
    "plt.xlabel('Epoch')\n",
    "plt.title('Nueral Network Result')\n",
    "plt.savefig('E:/Machine Learning/HW1/Bank/Bank_NNW_Epoch_Error.png')"
   ]
  },
  {
   "cell_type": "code",
   "execution_count": 5,
   "metadata": {},
   "outputs": [],
   "source": [
    "from imblearn.under_sampling import RandomUnderSampler\n",
    "res=RandomUnderSampler()\n",
    "X_res,y_res=res.fit_resample(X_train_origin, y_train_origin)\n",
    "y_res_encoding=np_utils.to_categorical(y_res)\n",
    "y_test_encoding=np_utils.to_categorical(y_test)"
   ]
  },
  {
   "cell_type": "code",
   "execution_count": 8,
   "metadata": {},
   "outputs": [
    {
     "name": "stdout",
     "output_type": "stream",
     "text": [
      "Train on 8672 samples, validate on 7730 samples\n",
      "Epoch 1/50\n",
      "8672/8672 [==============================] - 1s 79us/step - loss: 0.6892 - acc: 0.5411 - val_loss: 0.6383 - val_acc: 0.7334\n",
      "Epoch 2/50\n",
      "8672/8672 [==============================] - 0s 42us/step - loss: 0.6848 - acc: 0.5558 - val_loss: 0.7088 - val_acc: 0.5233\n",
      "Epoch 3/50\n",
      "8672/8672 [==============================] - 0s 44us/step - loss: 0.6839 - acc: 0.5567 - val_loss: 0.6962 - val_acc: 0.5589\n",
      "Epoch 4/50\n",
      "8672/8672 [==============================] - 0s 42us/step - loss: 0.6844 - acc: 0.5520 - val_loss: 0.6547 - val_acc: 0.6596\n",
      "Epoch 5/50\n",
      "8672/8672 [==============================] - 0s 42us/step - loss: 0.6836 - acc: 0.5575 - val_loss: 0.6276 - val_acc: 0.7217\n",
      "Epoch 6/50\n",
      "8672/8672 [==============================] - 0s 43us/step - loss: 0.6830 - acc: 0.5552 - val_loss: 0.6699 - val_acc: 0.6492\n",
      "Epoch 7/50\n",
      "8672/8672 [==============================] - 0s 44us/step - loss: 0.6835 - acc: 0.5558 - val_loss: 0.6855 - val_acc: 0.6072\n",
      "Epoch 8/50\n",
      "8672/8672 [==============================] - 0s 40us/step - loss: 0.6832 - acc: 0.5540 - val_loss: 0.7151 - val_acc: 0.5276\n",
      "Epoch 9/50\n",
      "8672/8672 [==============================] - 0s 44us/step - loss: 0.6823 - acc: 0.5634 - val_loss: 0.6942 - val_acc: 0.5828\n",
      "Epoch 10/50\n",
      "8672/8672 [==============================] - 0s 54us/step - loss: 0.6829 - acc: 0.5550 - val_loss: 0.6521 - val_acc: 0.6855\n",
      "Epoch 11/50\n",
      "8672/8672 [==============================] - 0s 52us/step - loss: 0.6828 - acc: 0.5559 - val_loss: 0.6640 - val_acc: 0.6480\n",
      "Epoch 12/50\n",
      "8672/8672 [==============================] - 0s 53us/step - loss: 0.6829 - acc: 0.5543 - val_loss: 0.6663 - val_acc: 0.6486\n",
      "Epoch 13/50\n",
      "8672/8672 [==============================] - 0s 42us/step - loss: 0.6827 - acc: 0.5567 - val_loss: 0.6567 - val_acc: 0.6691\n",
      "Epoch 14/50\n",
      "8672/8672 [==============================] - 0s 36us/step - loss: 0.6827 - acc: 0.5568 - val_loss: 0.6985 - val_acc: 0.5724\n",
      "Epoch 15/50\n",
      "8672/8672 [==============================] - 0s 46us/step - loss: 0.6827 - acc: 0.5571 - val_loss: 0.6988 - val_acc: 0.5639\n",
      "Epoch 16/50\n",
      "8672/8672 [==============================] - 0s 52us/step - loss: 0.6823 - acc: 0.5623 - val_loss: 0.7076 - val_acc: 0.5453\n",
      "Epoch 17/50\n",
      "8672/8672 [==============================] - 0s 38us/step - loss: 0.6823 - acc: 0.5578 - val_loss: 0.6773 - val_acc: 0.6171\n",
      "Epoch 18/50\n",
      "8672/8672 [==============================] - 0s 32us/step - loss: 0.6821 - acc: 0.5607 - val_loss: 0.6709 - val_acc: 0.6255\n",
      "Epoch 19/50\n",
      "8672/8672 [==============================] - 0s 34us/step - loss: 0.6823 - acc: 0.5592 - val_loss: 0.6972 - val_acc: 0.5620\n",
      "Epoch 20/50\n",
      "8672/8672 [==============================] - 0s 32us/step - loss: 0.6822 - acc: 0.5603 - val_loss: 0.6943 - val_acc: 0.5794\n",
      "Epoch 21/50\n",
      "8672/8672 [==============================] - 0s 34us/step - loss: 0.6824 - acc: 0.5608 - val_loss: 0.6894 - val_acc: 0.5847\n",
      "Epoch 22/50\n",
      "8672/8672 [==============================] - 0s 32us/step - loss: 0.6820 - acc: 0.5585 - val_loss: 0.6756 - val_acc: 0.6092\n",
      "Epoch 23/50\n",
      "8672/8672 [==============================] - 0s 34us/step - loss: 0.6818 - acc: 0.5654 - val_loss: 0.6891 - val_acc: 0.5765\n",
      "Epoch 24/50\n",
      "8672/8672 [==============================] - 0s 32us/step - loss: 0.6818 - acc: 0.5592 - val_loss: 0.6961 - val_acc: 0.5640\n",
      "Epoch 25/50\n",
      "8672/8672 [==============================] - 0s 32us/step - loss: 0.6819 - acc: 0.5603 - val_loss: 0.6872 - val_acc: 0.5829\n",
      "Epoch 26/50\n",
      "8672/8672 [==============================] - 0s 32us/step - loss: 0.6817 - acc: 0.5585 - val_loss: 0.6739 - val_acc: 0.6145\n",
      "Epoch 27/50\n",
      "8672/8672 [==============================] - 0s 34us/step - loss: 0.6814 - acc: 0.5597 - val_loss: 0.6458 - val_acc: 0.6928\n",
      "Epoch 28/50\n",
      "8672/8672 [==============================] - 0s 34us/step - loss: 0.6816 - acc: 0.5623 - val_loss: 0.6487 - val_acc: 0.6724\n",
      "Epoch 29/50\n",
      "8672/8672 [==============================] - 0s 33us/step - loss: 0.6817 - acc: 0.5601 - val_loss: 0.6820 - val_acc: 0.5824\n",
      "Epoch 30/50\n",
      "8672/8672 [==============================] - 0s 36us/step - loss: 0.6815 - acc: 0.5625 - val_loss: 0.7148 - val_acc: 0.5247\n",
      "Epoch 31/50\n",
      "8672/8672 [==============================] - 0s 34us/step - loss: 0.6816 - acc: 0.5638 - val_loss: 0.6751 - val_acc: 0.6043\n",
      "Epoch 32/50\n",
      "8672/8672 [==============================] - 0s 36us/step - loss: 0.6813 - acc: 0.5597 - val_loss: 0.6863 - val_acc: 0.5653\n",
      "Epoch 33/50\n",
      "8672/8672 [==============================] - 0s 34us/step - loss: 0.6816 - acc: 0.5597 - val_loss: 0.7257 - val_acc: 0.4657\n",
      "Epoch 34/50\n",
      "8672/8672 [==============================] - 0s 32us/step - loss: 0.6810 - acc: 0.5598 - val_loss: 0.6582 - val_acc: 0.6472\n",
      "Epoch 35/50\n",
      "8672/8672 [==============================] - 0s 34us/step - loss: 0.6809 - acc: 0.5642 - val_loss: 0.7206 - val_acc: 0.4829\n",
      "Epoch 36/50\n",
      "8672/8672 [==============================] - 1s 61us/step - loss: 0.6811 - acc: 0.5631 - val_loss: 0.6806 - val_acc: 0.5859\n",
      "Epoch 37/50\n",
      "8672/8672 [==============================] - 0s 49us/step - loss: 0.6808 - acc: 0.5626 - val_loss: 0.6843 - val_acc: 0.5771\n",
      "Epoch 38/50\n",
      "8672/8672 [==============================] - 0s 34us/step - loss: 0.6814 - acc: 0.5598 - val_loss: 0.7004 - val_acc: 0.5453\n",
      "Epoch 39/50\n",
      "8672/8672 [==============================] - 0s 32us/step - loss: 0.6806 - acc: 0.5620 - val_loss: 0.6837 - val_acc: 0.5842\n",
      "Epoch 40/50\n",
      "8672/8672 [==============================] - 0s 34us/step - loss: 0.6809 - acc: 0.5615 - val_loss: 0.6749 - val_acc: 0.5955\n",
      "Epoch 41/50\n",
      "8672/8672 [==============================] - 0s 32us/step - loss: 0.6805 - acc: 0.5615 - val_loss: 0.6726 - val_acc: 0.5977\n",
      "Epoch 42/50\n",
      "8672/8672 [==============================] - 0s 46us/step - loss: 0.6809 - acc: 0.5623 - val_loss: 0.6464 - val_acc: 0.6872\n",
      "Epoch 43/50\n",
      "8672/8672 [==============================] - 0s 38us/step - loss: 0.6800 - acc: 0.5643 - val_loss: 0.6425 - val_acc: 0.6809\n",
      "Epoch 44/50\n",
      "8672/8672 [==============================] - 1s 70us/step - loss: 0.6801 - acc: 0.5630 - val_loss: 0.6756 - val_acc: 0.5979\n",
      "Epoch 45/50\n",
      "8672/8672 [==============================] - 0s 34us/step - loss: 0.6803 - acc: 0.5639 - val_loss: 0.6833 - val_acc: 0.5878\n",
      "Epoch 46/50\n",
      "8672/8672 [==============================] - 0s 46us/step - loss: 0.6804 - acc: 0.5672 - val_loss: 0.6661 - val_acc: 0.6296\n",
      "Epoch 47/50\n",
      "8672/8672 [==============================] - 1s 66us/step - loss: 0.6799 - acc: 0.5639 - val_loss: 0.6980 - val_acc: 0.5414\n",
      "Epoch 48/50\n",
      "8672/8672 [==============================] - 0s 47us/step - loss: 0.6803 - acc: 0.5633 - val_loss: 0.6522 - val_acc: 0.6734\n",
      "Epoch 49/50\n",
      "8672/8672 [==============================] - 1s 72us/step - loss: 0.6797 - acc: 0.5655 - val_loss: 0.7032 - val_acc: 0.5486\n",
      "Epoch 50/50\n",
      "8672/8672 [==============================] - 1s 77us/step - loss: 0.6795 - acc: 0.5640 - val_loss: 0.6527 - val_acc: 0.6728\n",
      "8672/8672 [==============================] - 0s 18us/step\n",
      "7730/7730 [==============================] - 0s 12us/step\n"
     ]
    }
   ],
   "source": [
    "    model=Sequential()\n",
    "    model.add(Dense(60,input_dim=37,activation=tf.nn.relu))\n",
    "    model.add(Dense(60,activation=tf.nn.relu))\n",
    "    model.add(Dense(2,activation=tf.nn.softmax))\n",
    "    model.compile(optimizer='adam',loss='categorical_crossentropy',\n",
    "                  metrics=['accuracy'])\n",
    "    history=model.fit(X_res,y_res_encoding,epochs=50,validation_data = (X_test, y_test_encoding))\n",
    "    errorate_train_res=1-model.evaluate(X_res,y_res_encoding)[1]\n",
    "    errorate_test_res=1-model.evaluate(X_test,y_test_encoding)[1]\n",
    "    error_train=np.argmax(model.predict(X_res),axis=1)-y_res\n",
    "    FP_train_res=Counter(error_train)[1]/Counter(y_res)[0]\n",
    "    error_test=np.argmax(model.predict(X_test),axis=1)-y_test\n",
    "    FP_test_res=Counter(error_test)[1]/Counter(y_test)[0]"
   ]
  },
  {
   "cell_type": "code",
   "execution_count": 10,
   "metadata": {},
   "outputs": [
    {
     "name": "stdout",
     "output_type": "stream",
     "text": [
      "0.32716688230768676 0.5869365225390984 0.435539667896679 0.5855627306273062\n"
     ]
    }
   ],
   "source": [
    "print(errorate_test_res,FP_test_res,errorate_train_res,FP_train_res)"
   ]
  },
  {
   "cell_type": "code",
   "execution_count": null,
   "metadata": {},
   "outputs": [],
   "source": []
  }
 ],
 "metadata": {
  "kernelspec": {
   "display_name": "Python 3",
   "language": "python",
   "name": "python3"
  },
  "language_info": {
   "codemirror_mode": {
    "name": "ipython",
    "version": 3
   },
   "file_extension": ".py",
   "mimetype": "text/x-python",
   "name": "python",
   "nbconvert_exporter": "python",
   "pygments_lexer": "ipython3",
   "version": "3.6.5"
  }
 },
 "nbformat": 4,
 "nbformat_minor": 2
}
