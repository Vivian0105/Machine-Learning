{
 "cells": [
  {
   "cell_type": "code",
   "execution_count": 2,
   "metadata": {},
   "outputs": [],
   "source": [
    "from imblearn.under_sampling import RandomUnderSampler\n",
    "from collections import Counter\n",
    "import numpy as np\n",
    "import pandas as pd\n",
    "import matplotlib.pyplot as plt\n",
    "from sklearn.metrics import accuracy_score\n",
    "from sklearn.utils import shuffle\n",
    "import math\n",
    "from imblearn.combine import SMOTETomek\n",
    "from sklearn.model_selection import train_test_split\n",
    "from sklearn import svm\n",
    "from sklearn.metrics import confusion_matrix\n",
    "import time"
   ]
  },
  {
   "cell_type": "code",
   "execution_count": 3,
   "metadata": {},
   "outputs": [],
   "source": [
    "y=pd.read_csv('allstate_labels_2007.csv',low_memory=False)\n",
    "y=y['loan_status']\n",
    "X=pd.read_csv('allstate_filtered_loans_2007.csv',low_memory=False)"
   ]
  },
  {
   "cell_type": "code",
   "execution_count": 4,
   "metadata": {},
   "outputs": [],
   "source": [
    "X,y=shuffle(X,y,random_state=0)\n",
    "X_train_origin,X_test,y_train_origin,y_test=train_test_split(X,y,random_state=5,test_size=0.2)\n",
    "X_train=X_train_origin\n",
    "y_train=y_train_origin"
   ]
  },
  {
   "cell_type": "code",
   "execution_count": 28,
   "metadata": {},
   "outputs": [],
   "source": [
    "smt = SMOTETomek(1)\n",
    "X_train,y_train = smt.fit_resample(X_train_origin, y_train_origin)"
   ]
  },
  {
   "cell_type": "code",
   "execution_count": 29,
   "metadata": {},
   "outputs": [],
   "source": [
    "train_size=list(range(1,3))\n",
    "train_size[:]=[x/10 for x in train_size]\n",
    "errorate_train=[]\n",
    "errorate_test=[]\n",
    "FP_train=[]\n",
    "FP_test=[]\n",
    "train_time=[]\n",
    "for n in train_size:\n",
    "    X_train,y_train=shuffle(X_train,y_train)\n",
    "    X_train_sub=X_train[:int(len(X_train)*n)]\n",
    "    y_train_sub=y_train[:int(len(y_train)*n)]\n",
    "    time_start=time.clock()\n",
    "    model=svm.SVC(kernel='linear')\n",
    "    model.fit(X_train_sub,y_train_sub)\n",
    "    y_train_pred=model.predict(X_train_sub)\n",
    "    y_test_pred=model.predict(X_test)\n",
    "    errorate_train.append(1-accuracy_score(y_train_sub,y_train_pred))\n",
    "    errorate_test.append(1-accuracy_score(y_test,y_test_pred))\n",
    "    error_train=y_train_pred-y_train_sub\n",
    "    FP_train.append(Counter(error_train)[1]/Counter(y_train_sub)[0])\n",
    "    error_test=y_test_pred-y_test\n",
    "    FP_test.append(Counter(error_test)[1]/Counter(y_test)[0])\n",
    "    train_time.append(time.clock()-time_start)"
   ]
  },
  {
   "cell_type": "code",
   "execution_count": 34,
   "metadata": {},
   "outputs": [
    {
     "data": {
      "image/png": "[encoded data removed]",
      "text/plain": [
       "<Figure size 432x288 with 1 Axes>"
      ]
     },
     "metadata": {},
     "output_type": "display_data"
    }
   ],
   "source": [
    "plt.plot(train_size,errorate_train,'r--',train_size,errorate_test,'b--',train_size,FP_train, 'r^', train_size,FP_test, 'b^')\n",
    "plt.axis([0,1.1,0,1])\n",
    "plt.ylabel('Error Rate')\n",
    "plt.xlabel('Training Size')\n",
    "plt.title('SVM Result')\n",
    "plt.savefig('E:/Machine Learning/HW1/Bank/Bank_SVM_Error.png')"
   ]
  },
  {
   "cell_type": "code",
   "execution_count": 31,
   "metadata": {},
   "outputs": [
    {
     "data": {
      "text/plain": [
       "[0.49494020239190434, 0.43054277828886844]"
      ]
     },
     "execution_count": 31,
     "metadata": {},
     "output_type": "execute_result"
    }
   ],
   "source": [
    "FP_test"
   ]
  },
  {
   "cell_type": "code",
   "execution_count": 32,
   "metadata": {},
   "outputs": [
    {
     "data": {
      "text/plain": [
       "[0.4543987086359968, 0.4037168841439304]"
      ]
     },
     "execution_count": 32,
     "metadata": {},
     "output_type": "execute_result"
    }
   ],
   "source": [
    "FP_train"
   ]
  },
  {
   "cell_type": "code",
   "execution_count": 33,
   "metadata": {},
   "outputs": [
    {
     "data": {
      "text/plain": [
       "[1034.0761539537343, 11267.308286722706]"
      ]
     },
     "execution_count": 33,
     "metadata": {},
     "output_type": "execute_result"
    }
   ],
   "source": [
    "train_time"
   ]
  },
  {
   "cell_type": "code",
   "execution_count": 36,
   "metadata": {},
   "outputs": [
    {
     "data": {
      "image/png": "[encoded data removed]",
      "text/plain": [
       "<Figure size 432x288 with 1 Axes>"
      ]
     },
     "metadata": {},
     "output_type": "display_data"
    }
   ],
   "source": [
    "plt.plot(train_size,train_time,'go')\n",
    "plt.axis([0,1,0,1])\n",
    "plt.ylabel('Time (s)')\n",
    "plt.xlabel('Training Size')\n",
    "plt.title('SVM Result')\n",
    "plt.savefig('E:/Machine Learning/HW1/Bank/Bank_SVM_T.png')"
   ]
  },
  {
   "cell_type": "code",
   "execution_count": 5,
   "metadata": {},
   "outputs": [],
   "source": [
    "from imblearn.under_sampling import RandomUnderSampler\n",
    "res=RandomUnderSampler()\n",
    "X_res,y_res=res.fit_resample(X_train_origin, y_train_origin)"
   ]
  },
  {
   "cell_type": "code",
   "execution_count": 6,
   "metadata": {},
   "outputs": [],
   "source": [
    "    time_start=time.clock()\n",
    "    model=svm.SVC(kernel='linear')\n",
    "    model.fit(X_res,y_res)\n",
    "    y_train_pred=model.predict(X_res)\n",
    "    y_test_pred=model.predict(X_test)\n",
    "    errorate_train_res=1-accuracy_score(y_res,y_train_pred)\n",
    "    errorate_test_res=1-accuracy_score(y_test,y_test_pred)\n",
    "    error_train=y_train_pred-y_res\n",
    "    FP_train_res=Counter(error_train)[1]/Counter(y_res)[0]\n",
    "    error_test=y_test_pred-y_test\n",
    "    FP_test_res=Counter(error_test)[1]/Counter(y_test)[0]\n",
    "    train_time=time.clock()-time_start"
   ]
  },
  {
   "cell_type": "code",
   "execution_count": 7,
   "metadata": {},
   "outputs": [
    {
     "data": {
      "text/plain": [
       "2423.9342420792223"
      ]
     },
     "execution_count": 7,
     "metadata": {},
     "output_type": "execute_result"
    }
   ],
   "source": [
    "train_time"
   ]
  },
  {
   "cell_type": "code",
   "execution_count": 8,
   "metadata": {},
   "outputs": [
    {
     "name": "stdout",
     "output_type": "stream",
     "text": [
      "0.33247089262613194 0.48574057037718493 0.3864160516605166 0.46586715867158673\n"
     ]
    }
   ],
   "source": [
    "print(errorate_test_res,FP_test_res,errorate_train_res,FP_train_res)"
   ]
  },
  {
   "cell_type": "code",
   "execution_count": null,
   "metadata": {},
   "outputs": [],
   "source": []
  }
 ],
 "metadata": {
  "kernelspec": {
   "display_name": "Python 3",
   "language": "python",
   "name": "python3"
  },
  "language_info": {
   "codemirror_mode": {
    "name": "ipython",
    "version": 3
   },
   "file_extension": ".py",
   "mimetype": "text/x-python",
   "name": "python",
   "nbconvert_exporter": "python",
   "pygments_lexer": "ipython3",
   "version": "3.6.5"
  }
 },
 "nbformat": 4,
 "nbformat_minor": 2
}
