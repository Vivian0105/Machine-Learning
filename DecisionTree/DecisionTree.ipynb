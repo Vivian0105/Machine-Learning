{
 "cells": [
  {
   "cell_type": "code",
   "execution_count": 164,
   "metadata": {},
   "outputs": [],
   "source": [
    "import math\n",
    "from collections import Counter\n",
    "import os\n",
    "import numpy as np\n",
    "import pandas as pd"
   ]
  },
  {
   "cell_type": "code",
   "execution_count": 165,
   "metadata": {},
   "outputs": [],
   "source": [
    "os.chdir(\"E:/AI/assignment_4\")"
   ]
  },
  {
   "cell_type": "code",
   "execution_count": 166,
   "metadata": {},
   "outputs": [],
   "source": [
    "data=pd.read_csv(\"challenge_train.csv\")"
   ]
  },
  {
   "cell_type": "code",
   "execution_count": 167,
   "metadata": {},
   "outputs": [],
   "source": [
    "data=data.values"
   ]
  },
  {
   "cell_type": "code",
   "execution_count": 168,
   "metadata": {},
   "outputs": [],
   "source": [
    "np.random.shuffle(data)"
   ]
  },
  {
   "cell_type": "code",
   "execution_count": 170,
   "metadata": {},
   "outputs": [],
   "source": [
    "test_size=int(data.shape[0]*0.2)\n",
    "train_size=int(data.shape[0]*0.8*0.8)\n",
    "valid_size=int(data.shape[0])-test_size-train_size"
   ]
  },
  {
   "cell_type": "code",
   "execution_count": 171,
   "metadata": {},
   "outputs": [],
   "source": [
    "test_data=data[:test_size]"
   ]
  },
  {
   "cell_type": "code",
   "execution_count": 200,
   "metadata": {},
   "outputs": [],
   "source": [
    "test_X=test_data[:,1:]\n",
    "test_Y=test_data[:,0]"
   ]
  },
  {
   "cell_type": "code",
   "execution_count": 172,
   "metadata": {},
   "outputs": [],
   "source": [
    "total_train_data=data[test_size:]"
   ]
  },
  {
   "cell_type": "code",
   "execution_count": 173,
   "metadata": {},
   "outputs": [],
   "source": [
    "class treenode():\n",
    "    def __init__(self,left=None,right=None,function=None,label=None):\n",
    "        self.left=left\n",
    "        self.right=right\n",
    "        self.function=function\n",
    "        self.label=label\n",
    "    def decide_label(self,feature):\n",
    "        if self.label is not None:\n",
    "            return self.label\n",
    "        elif self.function(feature):\n",
    "            return self.left.decide_label(feature)\n",
    "        else:\n",
    "            return self.right.decide_label(feature)"
   ]
  },
  {
   "cell_type": "code",
   "execution_count": 174,
   "metadata": {},
   "outputs": [],
   "source": [
    "def Gini(labels):\n",
    "    unique_elements, counts_elements = np.unique(labels, return_counts=True)\n",
    "    p=counts_elements[0]/counts_elements.sum()\n",
    "    return p*(1-p)"
   ]
  },
  {
   "cell_type": "code",
   "execution_count": 175,
   "metadata": {},
   "outputs": [],
   "source": [
    "def GiniGain(labels,leftlabel,rightlabel):\n",
    "    if leftlabel.size==labels.size or rightlabel.size==labels.size:\n",
    "        return 0\n",
    "    else:\n",
    "        original_gini=Gini(labels)\n",
    "        left_gini=Gini(leftlabel)\n",
    "        right_gini=Gini(rightlabel)\n",
    "        return original_gini-leftlabel.size/labels.size*left_gini-rightlabel.size/labels.size*right_gini"
   ]
  },
  {
   "cell_type": "code",
   "execution_count": 293,
   "metadata": {},
   "outputs": [],
   "source": [
    "class DecisionTree():\n",
    "    def __init__(self,max_depth=10):\n",
    "        self.max_depth=max_depth\n",
    "    def Gini_split(self,data,label_collum=0):\n",
    "        labels=data[:,label_collum]\n",
    "        features=np.delete(data,label_collum,axis = 1) \n",
    "        max_ginigain=-float(\"inf\")\n",
    "        for i in range(features.shape[1]):\n",
    "            for j in [25,50,75]:\n",
    "                split_point=np.percentile(features[:,i],j)\n",
    "                leftlabel=labels[features[:,i]<split_point]\n",
    "                rightlabel=labels[features[:,i]>=split_point]\n",
    "                #print(\"leftlabel,rightlabel: \", leftlabel, rightlabel)\n",
    "                gini_gain=GiniGain(labels,leftlabel,rightlabel)\n",
    "                if gini_gain>max_ginigain:\n",
    "                    max_ginigain=gini_gain\n",
    "                    split_collum=i\n",
    "                    wheretosplit=split_point\n",
    "        return split_collum,wheretosplit\n",
    "    def build_tree(self,data,label_collum=0,depth=0):    \n",
    "        tree=treenode()\n",
    "        if np.unique(data[:,label_collum]).size==1:\n",
    "            tree.label=np.unique(data[:,label_collum]).item()\n",
    "        else:\n",
    "            features=np.delete(data,label_collum,axis=1)   \n",
    "            split_collum,wheretosplit=self.Gini_split(data,label_collum)\n",
    "            leftdata=data[features[:,split_collum]<wheretosplit]\n",
    "            rightdata=data[features[:,split_collum]>=wheretosplit]\n",
    "            if leftdata.shape[0]==data.shape[0] or rightdata.shape[0]==data.shape[0]:\n",
    "                unique_elements, counts_elements = np.unique(data[:,label_collum], return_counts=True)\n",
    "                tree.label=unique_elements[counts_elements.argmax()]\n",
    "            else:\n",
    "                if depth==self.max_depth:\n",
    "                    unique_elements, counts_elements = np.unique(leftdata[:,label_collum], return_counts=True)\n",
    "                    leftlabel=unique_elements[counts_elements.argmax()]\n",
    "                    tree=treenode(None, None, lambda features: features[split_collum]<wheretosplit)\n",
    "                    tree.left=treenode(label=leftlabel)\n",
    "                    unique_elements, counts_elements = np.unique(rightdata[:,label_collum], return_counts=True)\n",
    "                    rightlabel=unique_elements[counts_elements.argmax()]\n",
    "                    tree.right=treenode(label=rightlabel)\n",
    "                else:\n",
    "                    tree=treenode(None, None, lambda features: features[split_collum]<wheretosplit)\n",
    "                    depth=depth+1\n",
    "                    tree.left=self.build_tree(leftdata,label_collum,depth)            \n",
    "                    tree.right=self.build_tree(rightdata,label_collum,depth)          \n",
    "        return tree\n",
    "    def fit(self,test_data,tree):\n",
    "        labels=[]\n",
    "        for i in test_data:\n",
    "            labels.append(tree.decide_label(i))\n",
    "        return np.array(labels)\n",
    "    def k_fold_fit(self,test_data,trees):\n",
    "        labels=[]\n",
    "        for i in test_data:\n",
    "            labeli=[]\n",
    "            for tree in trees:\n",
    "                labeli.append(tree.decide_label(i))\n",
    "            unique_elements, counts_elements = np.unique(labeli, return_counts=True)\n",
    "            labels.append(unique_elements[counts_elements.argmax()])\n",
    "        return np.array(labels)\n",
    "            "
   ]
  },
  {
   "cell_type": "code",
   "execution_count": 215,
   "metadata": {},
   "outputs": [],
   "source": [
    "def accuracy(predicted_labels, true_labels):\n",
    "    return (np.array(predicted_labels)==np.array(true_labels)).sum()/predicted_labels.size"
   ]
  },
  {
   "cell_type": "code",
   "execution_count": 294,
   "metadata": {},
   "outputs": [],
   "source": [
    "DT=DecisionTree(10)"
   ]
  },
  {
   "cell_type": "code",
   "execution_count": 295,
   "metadata": {},
   "outputs": [],
   "source": [
    "tree=DT.build_tree(total_train_data)"
   ]
  },
  {
   "cell_type": "code",
   "execution_count": 296,
   "metadata": {},
   "outputs": [],
   "source": [
    "predict_labels=DT.fit(test_X,tree)"
   ]
  },
  {
   "cell_type": "code",
   "execution_count": 297,
   "metadata": {},
   "outputs": [
    {
     "data": {
      "text/plain": [
       "0.9208741522230596"
      ]
     },
     "execution_count": 297,
     "metadata": {},
     "output_type": "execute_result"
    }
   ],
   "source": [
    "accuracy(predict_labels, test_Y)"
   ]
  },
  {
   "cell_type": "code",
   "execution_count": 298,
   "metadata": {},
   "outputs": [],
   "source": [
    "def k_fold_crossvalidationDT(total_train_data,k=5):\n",
    "    accuracy_list=[]\n",
    "    models=[]\n",
    "    DT=DecisionTree(10)\n",
    "    for i in range(k):\n",
    "        portion_size=int(total_train_data.shape[0]/k)\n",
    "        validation=total_train_data[i*portion_size:(i+1)*portion_size]\n",
    "        validation_X=validation[:,1:]\n",
    "        validation_Y=validation[:,0]\n",
    "        train=np.append(total_train_data[0:i*portion_size], total_train_data[(i+1)*portion_size:],axis=0)\n",
    "        tree=DT.build_tree(train)\n",
    "        predict_labels=DT.fit(validation_X,tree)\n",
    "        acc=accuracy(predict_labels,validation_Y)\n",
    "        accuracy_list.append(acc)\n",
    "        models.append(tree)\n",
    "    return accuracy_list, models"
   ]
  },
  {
   "cell_type": "code",
   "execution_count": 299,
   "metadata": {
    "scrolled": true
   },
   "outputs": [],
   "source": [
    "accuracy_list, models=k_fold_crossvalidationDT(total_train_data)"
   ]
  },
  {
   "cell_type": "code",
   "execution_count": 300,
   "metadata": {},
   "outputs": [
    {
     "name": "stdout",
     "output_type": "stream",
     "text": [
      "[0.89443921 0.89915174 0.91705938 0.90763431 0.91423186]\n"
     ]
    }
   ],
   "source": [
    "accuracy_list=np.array(accuracy_list)\n",
    "print(accuracy_list)"
   ]
  },
  {
   "cell_type": "code",
   "execution_count": 301,
   "metadata": {},
   "outputs": [
    {
     "name": "stdout",
     "output_type": "stream",
     "text": [
      "The average accuracy of 5-fold crossvalidation Decision Tree on validation set is:  0.9065032987747408\n"
     ]
    }
   ],
   "source": [
    "print(\"The average accuracy of 5-fold crossvalidation Decision Tree on validation set is: \", accuracy_list.mean())"
   ]
  },
  {
   "cell_type": "code",
   "execution_count": 302,
   "metadata": {},
   "outputs": [],
   "source": [
    "predict_labels=DT.k_fold_fit(test_X,models)"
   ]
  },
  {
   "cell_type": "code",
   "execution_count": 303,
   "metadata": {},
   "outputs": [
    {
     "data": {
      "text/plain": [
       "0.9464958553127355"
      ]
     },
     "execution_count": 303,
     "metadata": {},
     "output_type": "execute_result"
    }
   ],
   "source": [
    "accuracy(predict_labels, test_Y)"
   ]
  },
  {
   "cell_type": "markdown",
   "metadata": {},
   "source": [
    "The accuracy on test set is 94.6% when 5-fold cross validation is used, whereas the accuracy on test set is 92.1% without corss validation. "
   ]
  },
  {
   "cell_type": "code",
   "execution_count": null,
   "metadata": {},
   "outputs": [],
   "source": []
  }
 ],
 "metadata": {
  "kernelspec": {
   "display_name": "Python 3",
   "language": "python",
   "name": "python3"
  },
  "language_info": {
   "codemirror_mode": {
    "name": "ipython",
    "version": 3
   },
   "file_extension": ".py",
   "mimetype": "text/x-python",
   "name": "python",
   "nbconvert_exporter": "python",
   "pygments_lexer": "ipython3",
   "version": "3.6.5"
  }
 },
 "nbformat": 4,
 "nbformat_minor": 2
}
