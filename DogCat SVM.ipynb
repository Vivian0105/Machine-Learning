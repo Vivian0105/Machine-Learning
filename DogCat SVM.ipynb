{
 "cells": [
  {
   "cell_type": "code",
   "execution_count": 3,
   "metadata": {},
   "outputs": [],
   "source": [
    "from collections import Counter\n",
    "import numpy as np\n",
    "import pandas as pd\n",
    "import matplotlib.pyplot as plt\n",
    "from sklearn.metrics import accuracy_score\n",
    "from sklearn.utils import shuffle\n",
    "from sklearn import svm\n",
    "import math\n",
    "import time\n",
    "import pickle\n",
    "from sklearn.model_selection import train_test_split"
   ]
  },
  {
   "cell_type": "code",
   "execution_count": 7,
   "metadata": {},
   "outputs": [],
   "source": [
    "pickle_in=open(\"DogCatX.pickle\",'rb')\n",
    "DogCatX=pickle.load(pickle_in)\n",
    "pickle_in.close()\n",
    "pickle_in=open('DogCaty.pickle','rb')\n",
    "DogCaty=pickle.load(pickle_in)\n",
    "pickle_in.close()"
   ]
  },
  {
   "cell_type": "code",
   "execution_count": 8,
   "metadata": {},
   "outputs": [],
   "source": [
    "DogCatX=np.reshape(DogCatX,(24946,2500))\n",
    "DogCatX,DogCaty=shuffle(DogCatX,DogCaty,random_state=0)\n",
    "X_train,X_test,y_train,y_test=train_test_split(DogCatX,DogCaty,random_state=5,test_size=0.25)"
   ]
  },
  {
   "cell_type": "code",
   "execution_count": 9,
   "metadata": {},
   "outputs": [],
   "source": [
    "train_size=[0.1,0.2,0.3]\n",
    "errorate_train=[]\n",
    "errorate_test=[]\n",
    "time_eclapsed=[]\n",
    "X_train,y_train=shuffle(X_train,y_train)\n",
    "X_train_sub=X_train[:int(len(X_train)*0.1)]\n",
    "y_train_sub=y_train[:int(len(y_train)*0.1)]\n",
    "time_start=time.clock()\n",
    "model=svm.SVC(kernel='linear')\n",
    "model.fit(X_train_sub,y_train_sub)\n",
    "errorate_train.append(1-accuracy_score(y_train_sub,model.predict(X_train_sub)))\n",
    "errorate_test.append(1-accuracy_score(y_test,model.predict(X_test)))\n",
    "time_eclapsed=time.clock()-time_start"
   ]
  },
  {
   "cell_type": "code",
   "execution_count": 14,
   "metadata": {},
   "outputs": [
    {
     "data": {
      "text/plain": [
       "[0.0, 0.0]"
      ]
     },
     "execution_count": 14,
     "metadata": {},
     "output_type": "execute_result"
    }
   ],
   "source": [
    "errorate_train"
   ]
  },
  {
   "cell_type": "code",
   "execution_count": 13,
   "metadata": {},
   "outputs": [
    {
     "data": {
      "text/plain": [
       "[0.4914221580888247, 0.4896584896584897]"
      ]
     },
     "execution_count": 13,
     "metadata": {},
     "output_type": "execute_result"
    }
   ],
   "source": [
    "errorate_test"
   ]
  },
  {
   "cell_type": "code",
   "execution_count": 11,
   "metadata": {},
   "outputs": [],
   "source": [
    "time_eclapsed=[50]"
   ]
  },
  {
   "cell_type": "code",
   "execution_count": 12,
   "metadata": {},
   "outputs": [],
   "source": [
    "X_train,y_train=shuffle(X_train,y_train)\n",
    "X_train_sub=X_train[:int(len(X_train)*0.2)]\n",
    "y_train_sub=y_train[:int(len(y_train)*0.2)]\n",
    "time_start=time.clock()\n",
    "model=svm.SVC(kernel='linear')\n",
    "model.fit(X_train_sub,y_train_sub)\n",
    "errorate_train.append(1-accuracy_score(y_train_sub,model.predict(X_train_sub)))\n",
    "errorate_test.append(1-accuracy_score(y_test,model.predict(X_test)))\n",
    "time_eclapsed.append(time.clock()-time_start)"
   ]
  },
  {
   "cell_type": "code",
   "execution_count": 14,
   "metadata": {},
   "outputs": [
    {
     "data": {
      "text/plain": [
       "[0.0, 0.0]"
      ]
     },
     "execution_count": 14,
     "metadata": {},
     "output_type": "execute_result"
    }
   ],
   "source": [
    "errorate_train"
   ]
  },
  {
   "cell_type": "code",
   "execution_count": 15,
   "metadata": {},
   "outputs": [
    {
     "data": {
      "text/plain": [
       "[0.4931858265191599, 0.4819624819624819]"
      ]
     },
     "execution_count": 15,
     "metadata": {},
     "output_type": "execute_result"
    }
   ],
   "source": [
    "errorate_test"
   ]
  },
  {
   "cell_type": "code",
   "execution_count": 15,
   "metadata": {},
   "outputs": [
    {
     "data": {
      "text/plain": [
       "[50, 171.75959741693248]"
      ]
     },
     "execution_count": 15,
     "metadata": {},
     "output_type": "execute_result"
    }
   ],
   "source": [
    "time_eclapsed"
   ]
  },
  {
   "cell_type": "code",
   "execution_count": null,
   "metadata": {},
   "outputs": [],
   "source": [
    "X_train,y_train=shuffle(X_train,y_train)\n",
    "X_train_sub=X_train[:int(len(X_train)*0.3)]\n",
    "y_train_sub=y_train[:int(len(y_train)*0.3)]\n",
    "time_start=time.clock()\n",
    "model=svm.SVC(kernel='linear')\n",
    "model.fit(X_train_sub,y_train_sub)\n",
    "errorate_train.append(1-accuracy_score(y_train_sub,model.predict(X_train_sub)))\n",
    "errorate_test.append(1-accuracy_score(y_test,model.predict(X_test)))\n",
    "time_eclapsed.append(time.clock()-time_start)"
   ]
  },
  {
   "cell_type": "code",
   "execution_count": 5,
   "metadata": {},
   "outputs": [],
   "source": [
    "train_size=[0.1,0.2]\n",
    "errorate_train=[0,0]\n",
    "errorate_test=[0.49,0.48]\n",
    "time_eclapsed=[50,174]"
   ]
  },
  {
   "cell_type": "code",
   "execution_count": 4,
   "metadata": {},
   "outputs": [
    {
     "data": {
      "image/png": "[encoded data removed]",
      "text/plain": [
       "<Figure size 432x288 with 1 Axes>"
      ]
     },
     "metadata": {},
     "output_type": "display_data"
    }
   ],
   "source": [
    "plt.plot(train_size,errorate_train,'r--',train_size,errorate_test,'b--')\n",
    "plt.axis([0,1,0,1])\n",
    "plt.ylabel('Error Rate')\n",
    "plt.xlabel('Training Size')\n",
    "plt.title('SVM Result')\n",
    "plt.savefig('E:/Machine Learning/HW1/DogCat/DogCat_SVM_Error.png')"
   ]
  },
  {
   "cell_type": "code",
   "execution_count": 6,
   "metadata": {},
   "outputs": [
    {
     "data": {
      "image/png": "[encoded data removed]",
      "text/plain": [
       "<Figure size 432x288 with 1 Axes>"
      ]
     },
     "metadata": {},
     "output_type": "display_data"
    }
   ],
   "source": [
    "plt.plot(train_size,time_eclapsed,'go')\n",
    "plt.axis([0,1,0,200])\n",
    "plt.ylabel('Time (s)')\n",
    "plt.xlabel('Training Size')\n",
    "plt.title('SVM Result')\n",
    "plt.savefig('E:/Machine Learning/HW1/DogCat/DogCat_SVM_T.png')"
   ]
  },
  {
   "cell_type": "code",
   "execution_count": null,
   "metadata": {},
   "outputs": [],
   "source": []
  }
 ],
 "metadata": {
  "kernelspec": {
   "display_name": "Python 3",
   "language": "python",
   "name": "python3"
  },
  "language_info": {
   "codemirror_mode": {
    "name": "ipython",
    "version": 3
   },
   "file_extension": ".py",
   "mimetype": "text/x-python",
   "name": "python",
   "nbconvert_exporter": "python",
   "pygments_lexer": "ipython3",
   "version": "3.6.5"
  }
 },
 "nbformat": 4,
 "nbformat_minor": 2
}
