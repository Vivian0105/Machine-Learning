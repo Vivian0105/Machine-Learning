{
 "cells": [
  {
   "cell_type": "code",
   "execution_count": 16,
   "metadata": {},
   "outputs": [],
   "source": [
    "import numpy as np\n",
    "import pandas as pd\n",
    "from collections import Counter\n",
    "import matplotlib.pyplot as plt\n",
    "from sklearn.metrics import accuracy_score\n",
    "import pickle\n",
    "import math\n",
    "from sklearn.utils import shuffle\n",
    "import tensorflow as tf\n",
    "from sklearn.model_selection import train_test_split\n",
    "import time"
   ]
  },
  {
   "cell_type": "code",
   "execution_count": 10,
   "metadata": {},
   "outputs": [
    {
     "data": {
      "text/plain": [
       "(24946, 50, 50)"
      ]
     },
     "execution_count": 10,
     "metadata": {},
     "output_type": "execute_result"
    }
   ],
   "source": [
    "pickle_in=open(\"DogCatX.pickle\",'rb')\n",
    "DogCatX=pickle.load(pickle_in)\n",
    "pickle_in.close()\n",
    "pickle_in=open('DogCaty.pickle','rb')\n",
    "DogCaty=pickle.load(pickle_in)\n",
    "pickle_in.close()\n",
    "DogCatX.shape"
   ]
  },
  {
   "cell_type": "code",
   "execution_count": 35,
   "metadata": {},
   "outputs": [],
   "source": [
    "DogCatX,DogCaty=shuffle(DogCatX,DogCaty,random_state=0)\n",
    "X_train,X_test,y_train,y_test=train_test_split(DogCatX,DogCaty,random_state=5,test_size=0.25)\n",
    "y_train=np.array(y_train)\n",
    "y_test=np.array(y_test)\n",
    "X_train=tf.keras.utils.normalize(X_train,axis=1)\n",
    "X_test=tf.keras.utils.normalize(X_test,axis=1)"
   ]
  },
  {
   "cell_type": "code",
   "execution_count": 62,
   "metadata": {},
   "outputs": [
    {
     "name": "stdout",
     "output_type": "stream",
     "text": [
      "Epoch 1/15\n",
      "3741/3741 [==============================] - 10s 3ms/step - loss: 0.7122 - acc: 0.5143\n",
      "Epoch 2/15\n",
      "3741/3741 [==============================] - 8s 2ms/step - loss: 0.6863 - acc: 0.5504\n",
      "Epoch 3/15\n",
      "3741/3741 [==============================] - 7s 2ms/step - loss: 0.6766 - acc: 0.5600\n",
      "Epoch 4/15\n",
      "3741/3741 [==============================] - 7s 2ms/step - loss: 0.6759 - acc: 0.5541\n",
      "Epoch 5/15\n",
      "3741/3741 [==============================] - 7s 2ms/step - loss: 0.6625 - acc: 0.5886\n",
      "Epoch 6/15\n",
      "3741/3741 [==============================] - 7s 2ms/step - loss: 0.6622 - acc: 0.5916\n",
      "Epoch 7/15\n",
      "3741/3741 [==============================] - 7s 2ms/step - loss: 0.6535 - acc: 0.6055\n",
      "Epoch 8/15\n",
      "3741/3741 [==============================] - 7s 2ms/step - loss: 0.6473 - acc: 0.6137\n",
      "Epoch 9/15\n",
      "3741/3741 [==============================] - 8s 2ms/step - loss: 0.6578 - acc: 0.6017\n",
      "Epoch 10/15\n",
      "3741/3741 [==============================] - 8s 2ms/step - loss: 0.6424 - acc: 0.6204\n",
      "Epoch 11/15\n",
      "3741/3741 [==============================] - 8s 2ms/step - loss: 0.6378 - acc: 0.6295\n",
      "Epoch 12/15\n",
      "3741/3741 [==============================] - 8s 2ms/step - loss: 0.6247 - acc: 0.6445\n",
      "Epoch 13/15\n",
      "3741/3741 [==============================] - 8s 2ms/step - loss: 0.6185 - acc: 0.6450\n",
      "Epoch 14/15\n",
      "3741/3741 [==============================] - 8s 2ms/step - loss: 0.6173 - acc: 0.6632\n",
      "Epoch 15/15\n",
      "3741/3741 [==============================] - 7s 2ms/step - loss: 0.6115 - acc: 0.6621\n",
      "3741/3741 [==============================] - 1s 392us/step\n",
      "6237/6237 [==============================] - 2s 268us/step\n",
      "Epoch 1/15\n",
      "7483/7483 [==============================] - 16s 2ms/step - loss: 0.7105 - acc: 0.5137\n",
      "Epoch 2/15\n",
      "7483/7483 [==============================] - 16s 2ms/step - loss: 0.6876 - acc: 0.5462\n",
      "Epoch 3/15\n",
      "7483/7483 [==============================] - 15s 2ms/step - loss: 0.6721 - acc: 0.5869\n",
      "Epoch 4/15\n",
      "7483/7483 [==============================] - 16s 2ms/step - loss: 0.6703 - acc: 0.5901\n",
      "Epoch 5/15\n",
      "7483/7483 [==============================] - 15s 2ms/step - loss: 0.6595 - acc: 0.6035\n",
      "Epoch 6/15\n",
      "7483/7483 [==============================] - 16s 2ms/step - loss: 0.6566 - acc: 0.6079\n",
      "Epoch 7/15\n",
      "7483/7483 [==============================] - 13s 2ms/step - loss: 0.6532 - acc: 0.6146\n",
      "Epoch 8/15\n",
      "7483/7483 [==============================] - 14s 2ms/step - loss: 0.6509 - acc: 0.6189\n",
      "Epoch 9/15\n",
      "7483/7483 [==============================] - 15s 2ms/step - loss: 0.6476 - acc: 0.6221\n",
      "Epoch 10/15\n",
      "7483/7483 [==============================] - 14s 2ms/step - loss: 0.6468 - acc: 0.6235\n",
      "Epoch 11/15\n",
      "7483/7483 [==============================] - 16s 2ms/step - loss: 0.6415 - acc: 0.6344: 0s - loss: 0.6415 - acc: \n",
      "Epoch 12/15\n",
      "7483/7483 [==============================] - 15s 2ms/step - loss: 0.6414 - acc: 0.6326\n",
      "Epoch 13/15\n",
      "7483/7483 [==============================] - 16s 2ms/step - loss: 0.6326 - acc: 0.6380\n",
      "Epoch 14/15\n",
      "7483/7483 [==============================] - 14s 2ms/step - loss: 0.6300 - acc: 0.6456\n",
      "Epoch 15/15\n",
      "7483/7483 [==============================] - 14s 2ms/step - loss: 0.6301 - acc: 0.6437: 0s - loss: 0.6291 - a\n",
      "7483/7483 [==============================] - 3s 345us/step\n",
      "6237/6237 [==============================] - 2s 275us/step\n",
      "Epoch 1/15\n",
      "11225/11225 [==============================] - 22s 2ms/step - loss: 0.6997 - acc: 0.5224\n",
      "Epoch 2/15\n",
      "11225/11225 [==============================] - 22s 2ms/step - loss: 0.6752 - acc: 0.5704\n",
      "Epoch 3/15\n",
      "11225/11225 [==============================] - 21s 2ms/step - loss: 0.6671 - acc: 0.5895\n",
      "Epoch 4/15\n",
      "11225/11225 [==============================] - 21s 2ms/step - loss: 0.6607 - acc: 0.6025\n",
      "Epoch 5/15\n",
      "11225/11225 [==============================] - 21s 2ms/step - loss: 0.6589 - acc: 0.6072\n",
      "Epoch 6/15\n",
      "11225/11225 [==============================] - 21s 2ms/step - loss: 0.6589 - acc: 0.6043\n",
      "Epoch 7/15\n",
      "11225/11225 [==============================] - 23s 2ms/step - loss: 0.6512 - acc: 0.6150\n",
      "Epoch 8/15\n",
      "11225/11225 [==============================] - 21s 2ms/step - loss: 0.6487 - acc: 0.6200\n",
      "Epoch 9/15\n",
      "11225/11225 [==============================] - 21s 2ms/step - loss: 0.6463 - acc: 0.6193: 0s - loss: 0.6454 - acc\n",
      "Epoch 10/15\n",
      "11225/11225 [==============================] - 20s 2ms/step - loss: 0.6430 - acc: 0.6254\n",
      "Epoch 11/15\n",
      "11225/11225 [==============================] - 24s 2ms/step - loss: 0.6403 - acc: 0.6322\n",
      "Epoch 12/15\n",
      "11225/11225 [==============================] - 20s 2ms/step - loss: 0.6379 - acc: 0.6353\n",
      "Epoch 13/15\n",
      "11225/11225 [==============================] - 21s 2ms/step - loss: 0.6357 - acc: 0.6389\n",
      "Epoch 14/15\n",
      "11225/11225 [==============================] - 22s 2ms/step - loss: 0.6318 - acc: 0.6381\n",
      "Epoch 15/15\n",
      "11225/11225 [==============================] - 21s 2ms/step - loss: 0.6291 - acc: 0.6417\n",
      "11225/11225 [==============================] - 4s 319us/step\n",
      "6237/6237 [==============================] - 2s 274us/step\n",
      "Epoch 1/15\n",
      "14967/14967 [==============================] - 29s 2ms/step - loss: 0.6938 - acc: 0.5481\n",
      "Epoch 2/15\n",
      "14967/14967 [==============================] - 28s 2ms/step - loss: 0.6664 - acc: 0.5949\n",
      "Epoch 3/15\n",
      "14967/14967 [==============================] - 28s 2ms/step - loss: 0.6610 - acc: 0.5988\n",
      "Epoch 4/15\n",
      "14967/14967 [==============================] - 28s 2ms/step - loss: 0.6551 - acc: 0.6093\n",
      "Epoch 5/15\n",
      "14967/14967 [==============================] - 32s 2ms/step - loss: 0.6531 - acc: 0.6144\n",
      "Epoch 6/15\n",
      "14967/14967 [==============================] - 26s 2ms/step - loss: 0.6514 - acc: 0.6148\n",
      "Epoch 7/15\n",
      "14967/14967 [==============================] - 26s 2ms/step - loss: 0.6462 - acc: 0.6223\n",
      "Epoch 8/15\n",
      "14967/14967 [==============================] - 29s 2ms/step - loss: 0.6434 - acc: 0.6218\n",
      "Epoch 9/15\n",
      "14967/14967 [==============================] - 28s 2ms/step - loss: 0.6422 - acc: 0.6255\n",
      "Epoch 10/15\n",
      "14967/14967 [==============================] - 28s 2ms/step - loss: 0.6369 - acc: 0.6347\n",
      "Epoch 11/15\n",
      "14967/14967 [==============================] - 29s 2ms/step - loss: 0.6346 - acc: 0.6351\n",
      "Epoch 12/15\n",
      "14967/14967 [==============================] - 32s 2ms/step - loss: 0.6300 - acc: 0.6425\n",
      "Epoch 13/15\n",
      "14967/14967 [==============================] - 31s 2ms/step - loss: 0.6262 - acc: 0.6441\n",
      "Epoch 14/15\n",
      "14967/14967 [==============================] - 28s 2ms/step - loss: 0.6279 - acc: 0.6461\n",
      "Epoch 15/15\n",
      "14967/14967 [==============================] - 28s 2ms/step - loss: 0.6285 - acc: 0.6425\n",
      "14967/14967 [==============================] - 5s 324us/step\n",
      "6237/6237 [==============================] - 2s 276us/step\n",
      "Epoch 1/15\n",
      "18709/18709 [==============================] - 39s 2ms/step - loss: 0.6895 - acc: 0.5474\n",
      "Epoch 2/15\n",
      "18709/18709 [==============================] - 34s 2ms/step - loss: 0.6679 - acc: 0.5919\n",
      "Epoch 3/15\n",
      "18709/18709 [==============================] - 34s 2ms/step - loss: 0.6634 - acc: 0.5989\n",
      "Epoch 4/15\n",
      "18709/18709 [==============================] - 36s 2ms/step - loss: 0.6595 - acc: 0.6056: 0s - loss: 0.6594 - acc: 0.\n",
      "Epoch 5/15\n",
      "18709/18709 [==============================] - 34s 2ms/step - loss: 0.6564 - acc: 0.6099\n",
      "Epoch 6/15\n",
      "18709/18709 [==============================] - 35s 2ms/step - loss: 0.6540 - acc: 0.6116\n",
      "Epoch 7/15\n",
      "18709/18709 [==============================] - 35s 2ms/step - loss: 0.6515 - acc: 0.6175\n",
      "Epoch 8/15\n",
      "18709/18709 [==============================] - 38s 2ms/step - loss: 0.6498 - acc: 0.6188\n",
      "Epoch 9/15\n",
      "18709/18709 [==============================] - 42s 2ms/step - loss: 0.6476 - acc: 0.6234\n",
      "Epoch 10/15\n",
      "18709/18709 [==============================] - 39s 2ms/step - loss: 0.6456 - acc: 0.6236\n",
      "Epoch 11/15\n",
      "18709/18709 [==============================] - 34s 2ms/step - loss: 0.6438 - acc: 0.6293\n",
      "Epoch 12/15\n",
      "18709/18709 [==============================] - 34s 2ms/step - loss: 0.6447 - acc: 0.6276\n",
      "Epoch 13/15\n",
      "18709/18709 [==============================] - 36s 2ms/step - loss: 0.6440 - acc: 0.6275\n",
      "Epoch 14/15\n",
      "18709/18709 [==============================] - 43s 2ms/step - loss: 0.6395 - acc: 0.6351\n",
      "Epoch 15/15\n",
      "18709/18709 [==============================] - 43s 2ms/step - loss: 0.6408 - acc: 0.6356\n",
      "18709/18709 [==============================] - 7s 381us/step\n",
      "6237/6237 [==============================] - 2s 360us/step\n"
     ]
    }
   ],
   "source": [
    "train_size=list(range(2,11,2))\n",
    "train_size[:]=[x/10 for x in train_size]\n",
    "errorate_train=[]\n",
    "errorate_test=[]\n",
    "learn_time=[]\n",
    "for n in train_size:\n",
    "    X_train,y_train=shuffle(X_train,y_train,random_state=0)\n",
    "    X_train_sub=X_train[:int(len(X_train)*n)]\n",
    "    y_train_sub=y_train[:int(len(y_train)*n)]\n",
    "    time_start=time.clock()\n",
    "    model=tf.keras.models.Sequential()\n",
    "    model.add(tf.keras.layers.Flatten())\n",
    "    model.add(tf.keras.layers.Dense(1000,activation=tf.nn.relu))\n",
    "    model.add(tf.keras.layers.Dense(1000,activation=tf.nn.relu))\n",
    "    model.add(tf.keras.layers.Dense(2,activation=tf.nn.softmax))\n",
    "    model.compile(optimizer='adam',loss='sparse_categorical_crossentropy',\n",
    "                  metrics=['accuracy'])\n",
    "    model.fit(X_train_sub,y_train_sub,epochs=15)    \n",
    "    errorate_train.append(1-model.evaluate(X_train_sub,y_train_sub)[1])\n",
    "    errorate_test.append(1-model.evaluate(X_test,y_test)[1])  \n",
    "    learn_time.append(time.clock()-time_start)    "
   ]
  },
  {
   "cell_type": "code",
   "execution_count": 63,
   "metadata": {},
   "outputs": [
    {
     "data": {
      "image/png": "[encoded data removed]",
      "text/plain": [
       "<Figure size 432x288 with 1 Axes>"
      ]
     },
     "metadata": {},
     "output_type": "display_data"
    }
   ],
   "source": [
    "plt.plot(train_size,errorate_train,'r--',train_size,errorate_test,'b--')\n",
    "plt.axis([0,1.1,0,1])\n",
    "plt.ylabel('Error Rate')\n",
    "plt.xlabel('Training Size')\n",
    "plt.title('Nueral Network Result')\n",
    "plt.savefig('E:/Machine Learning/HW1/DogCat/DogCat_NNW_Error.png')"
   ]
  },
  {
   "cell_type": "code",
   "execution_count": 71,
   "metadata": {},
   "outputs": [
    {
     "data": {
      "image/png": "[encoded data removed]",
      "text/plain": [
       "<Figure size 432x288 with 1 Axes>"
      ]
     },
     "metadata": {},
     "output_type": "display_data"
    }
   ],
   "source": [
    "plt.plot(train_size,learn_time,'go')\n",
    "plt.axis([0,1.1,0,600])\n",
    "plt.ylabel('Time (s)')\n",
    "plt.xlabel('Training Size')\n",
    "plt.title('Nueral Network Result')\n",
    "plt.savefig('E:/Machine Learning/HW1/DogCat/DogCat_NNW_T.png')"
   ]
  },
  {
   "cell_type": "code",
   "execution_count": 42,
   "metadata": {},
   "outputs": [
    {
     "data": {
      "image/png": "[encoded data removed]",
      "text/plain": [
       "<Figure size 432x288 with 1 Axes>"
      ]
     },
     "metadata": {},
     "output_type": "display_data"
    }
   ],
   "source": [
    "plt.imshow(X_train[0])\n",
    "plt.show()"
   ]
  },
  {
   "cell_type": "code",
   "execution_count": 68,
   "metadata": {},
   "outputs": [
    {
     "data": {
      "text/plain": [
       "[0.4082090747992886,\n",
       " 0.4163860830623063,\n",
       " 0.38736572081373344,\n",
       " 0.38399871746584335,\n",
       " 0.3918550586364047]"
      ]
     },
     "execution_count": 68,
     "metadata": {},
     "output_type": "execute_result"
    }
   ],
   "source": [
    "errorate_test"
   ]
  },
  {
   "cell_type": "code",
   "execution_count": 69,
   "metadata": {},
   "outputs": [
    {
     "data": {
      "text/plain": [
       "[118.05714598376653,\n",
       " 229.30837363615865,\n",
       " 328.89557863415394,\n",
       " 437.12913204285724,\n",
       " 564.9517326194764]"
      ]
     },
     "execution_count": 69,
     "metadata": {},
     "output_type": "execute_result"
    }
   ],
   "source": [
    "learn_time"
   ]
  },
  {
   "cell_type": "code",
   "execution_count": 72,
   "metadata": {},
   "outputs": [
    {
     "name": "stdout",
     "output_type": "stream",
     "text": [
      "Train on 18709 samples, validate on 6237 samples\n",
      "Epoch 1/15\n",
      "18709/18709 [==============================] - 48s 3ms/step - loss: 0.6919 - acc: 0.5334 - val_loss: 0.6757 - val_acc: 0.5831\n",
      "Epoch 2/15\n",
      "18709/18709 [==============================] - 44s 2ms/step - loss: 0.6709 - acc: 0.5838 - val_loss: 0.6790 - val_acc: 0.5552\n",
      "Epoch 3/15\n",
      "18709/18709 [==============================] - 43s 2ms/step - loss: 0.6649 - acc: 0.5942 - val_loss: 0.6624 - val_acc: 0.6059\n",
      "Epoch 4/15\n",
      "18709/18709 [==============================] - 50s 3ms/step - loss: 0.6591 - acc: 0.6015 - val_loss: 0.6558 - val_acc: 0.6097\n",
      "Epoch 5/15\n",
      "18709/18709 [==============================] - 45s 2ms/step - loss: 0.6572 - acc: 0.6030 - val_loss: 0.6593 - val_acc: 0.6008\n",
      "Epoch 6/15\n",
      "18709/18709 [==============================] - 48s 3ms/step - loss: 0.6530 - acc: 0.6132 - val_loss: 0.6534 - val_acc: 0.6178\n",
      "Epoch 7/15\n",
      "18709/18709 [==============================] - 48s 3ms/step - loss: 0.6514 - acc: 0.6112 - val_loss: 0.6551 - val_acc: 0.6043\n",
      "Epoch 8/15\n",
      "18709/18709 [==============================] - 48s 3ms/step - loss: 0.6472 - acc: 0.6227 - val_loss: 0.6671 - val_acc: 0.5979\n",
      "Epoch 9/15\n",
      "18709/18709 [==============================] - 45s 2ms/step - loss: 0.6435 - acc: 0.6298 - val_loss: 0.6553 - val_acc: 0.6081\n",
      "Epoch 10/15\n",
      "18709/18709 [==============================] - 42s 2ms/step - loss: 0.6454 - acc: 0.6218 - val_loss: 0.6578 - val_acc: 0.6048\n",
      "Epoch 11/15\n",
      "18709/18709 [==============================] - 42s 2ms/step - loss: 0.6409 - acc: 0.6304 - val_loss: 0.6571 - val_acc: 0.6054\n",
      "Epoch 12/15\n",
      "18709/18709 [==============================] - 42s 2ms/step - loss: 0.6374 - acc: 0.6365 - val_loss: 0.6527 - val_acc: 0.6141\n",
      "Epoch 13/15\n",
      "18709/18709 [==============================] - 43s 2ms/step - loss: 0.6342 - acc: 0.6389 - val_loss: 0.6580 - val_acc: 0.6000\n",
      "Epoch 14/15\n",
      "18709/18709 [==============================] - 43s 2ms/step - loss: 0.6335 - acc: 0.6387 - val_loss: 0.6646 - val_acc: 0.6094\n",
      "Epoch 15/15\n",
      "18709/18709 [==============================] - 42s 2ms/step - loss: 0.6319 - acc: 0.6435 - val_loss: 0.6663 - val_acc: 0.5988\n"
     ]
    }
   ],
   "source": [
    "    model=tf.keras.models.Sequential()\n",
    "    model.add(tf.keras.layers.Flatten())\n",
    "    model.add(tf.keras.layers.Dense(1000,activation=tf.nn.relu))\n",
    "    model.add(tf.keras.layers.Dense(1000,activation=tf.nn.relu))\n",
    "    model.add(tf.keras.layers.Dense(2,activation=tf.nn.softmax))\n",
    "    model.compile(optimizer='adam',loss='sparse_categorical_crossentropy',\n",
    "                  metrics=['accuracy'])\n",
    "    history=model.fit(X_train,y_train,epochs=15,validation_data = (X_test, y_test))  "
   ]
  },
  {
   "cell_type": "code",
   "execution_count": 76,
   "metadata": {},
   "outputs": [],
   "source": [
    "epoch=list(range(1,16))"
   ]
  },
  {
   "cell_type": "code",
   "execution_count": 100,
   "metadata": {},
   "outputs": [],
   "source": [
    "acc=[1-x for x in history.history['acc']]\n",
    "test_acc=[1-x for x in history.history['val_acc']]"
   ]
  },
  {
   "cell_type": "code",
   "execution_count": 101,
   "metadata": {},
   "outputs": [
    {
     "data": {
      "image/png": "[encoded data removed]",
      "text/plain": [
       "<Figure size 432x288 with 1 Axes>"
      ]
     },
     "metadata": {},
     "output_type": "display_data"
    }
   ],
   "source": [
    "plt.plot(epoch,acc,'y--',epoch,test_acc,'m--')\n",
    "plt.axis([0,10,0,1])\n",
    "plt.ylabel('Error Rate')\n",
    "plt.xlabel('Epoch')\n",
    "plt.title('Nueral Network Result')\n",
    "plt.savefig('E:/Machine Learning/HW1/DogCat/DogCat_NNW_Epoch_Error.png')"
   ]
  },
  {
   "cell_type": "code",
   "execution_count": null,
   "metadata": {},
   "outputs": [],
   "source": []
  }
 ],
 "metadata": {
  "kernelspec": {
   "display_name": "Python 3",
   "language": "python",
   "name": "python3"
  },
  "language_info": {
   "codemirror_mode": {
    "name": "ipython",
    "version": 3
   },
   "file_extension": ".py",
   "mimetype": "text/x-python",
   "name": "python",
   "nbconvert_exporter": "python",
   "pygments_lexer": "ipython3",
   "version": "3.6.5"
  }
 },
 "nbformat": 4,
 "nbformat_minor": 2
}
