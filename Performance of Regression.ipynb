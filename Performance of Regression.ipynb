{
 "cells": [
  {
   "cell_type": "code",
   "execution_count": 26,
   "metadata": {},
   "outputs": [],
   "source": [
    "import os\n",
    "os.chdir(\"E:/MLforTrading/ML4T_2020Summer/assess_learners/Data\")\n",
    "import warnings\n",
    "warnings.filterwarnings('ignore')\n",
    "import numpy as np\n",
    "import pandas as pd\n",
    "import matplotlib.pyplot as plt\n",
    "import seaborn as sns \n",
    "import math\n",
    "from sklearn.metrics import r2_score"
   ]
  },
  {
   "cell_type": "code",
   "execution_count": 4,
   "metadata": {},
   "outputs": [],
   "source": [
    "predictY=np.load(\"PredictY.npy\")\n",
    "testY=np.load(\"testY.npy\")"
   ]
  },
  {
   "cell_type": "code",
   "execution_count": 9,
   "metadata": {},
   "outputs": [
    {
     "name": "stdout",
     "output_type": "stream",
     "text": [
      "The explained variance regression score is:  0.5129809893008901\n"
     ]
    }
   ],
   "source": [
    "explained_variance=1-(testY-predictY).var()/testY.var()\n",
    "print(\"The explained variance regression score is: \", explained_variance)"
   ]
  },
  {
   "cell_type": "code",
   "execution_count": 12,
   "metadata": {},
   "outputs": [
    {
     "name": "stdout",
     "output_type": "stream",
     "text": [
      "The RMSE of testY is:  0.005721798578222952\n"
     ]
    }
   ],
   "source": [
    "RMSE=math.sqrt((((testY-predictY))**2).sum()/testY.size)\n",
    "print(\"The RMSE of testY is: \", RMSE)"
   ]
  },
  {
   "cell_type": "code",
   "execution_count": 25,
   "metadata": {},
   "outputs": [
    {
     "name": "stdout",
     "output_type": "stream",
     "text": [
      "The correlation between predicted values and true values is: 0.751\n"
     ]
    },
    {
     "data": {
      "image/png": "[encoded data removed]",
      "text/plain": [
       "<Figure size 432x288 with 1 Axes>"
      ]
     },
     "metadata": {},
     "output_type": "display_data"
    }
   ],
   "source": [
    "corr=np.corrcoef(testY,predictY)[0,1]\n",
    "print(\"The correlation between predicted values and true values is: %.3f\"%(corr))\n",
    "plt.scatter(testY,predictY)\n",
    "plt.xlim(-0.04,0.04)\n",
    "plt.ylim(-0.04,0.04)\n",
    "plt.xlabel(\"testY\",fontsize=12)\n",
    "plt.ylabel(\"predictY\",fontsize=12)\n",
    "plt.show()"
   ]
  },
  {
   "cell_type": "code",
   "execution_count": 50,
   "metadata": {},
   "outputs": [
    {
     "name": "stdout",
     "output_type": "stream",
     "text": [
      "r2_score is:  0.5085427814252208\n"
     ]
    }
   ],
   "source": [
    "r2=1-np.sum((testY-predictY)**2)/np.sum((testY-testY.mean())**2)\n",
    "print(\"r2_score is: \",r2)"
   ]
  },
  {
   "cell_type": "code",
   "execution_count": 51,
   "metadata": {},
   "outputs": [],
   "source": [
    "def R2(real,predict):\n",
    "    return 1-np.sum((real-predict)**2)/np.sum((real-real.mean())**2)"
   ]
  },
  {
   "cell_type": "code",
   "execution_count": 52,
   "metadata": {},
   "outputs": [
    {
     "data": {
      "text/plain": [
       "0.5085427814252208"
      ]
     },
     "execution_count": 52,
     "metadata": {},
     "output_type": "execute_result"
    }
   ],
   "source": [
    "R2(testY,predictY)"
   ]
  },
  {
   "cell_type": "code",
   "execution_count": null,
   "metadata": {},
   "outputs": [],
   "source": []
  }
 ],
 "metadata": {
  "kernelspec": {
   "display_name": "Python 3",
   "language": "python",
   "name": "python3"
  },
  "language_info": {
   "codemirror_mode": {
    "name": "ipython",
    "version": 3
   },
   "file_extension": ".py",
   "mimetype": "text/x-python",
   "name": "python",
   "nbconvert_exporter": "python",
   "pygments_lexer": "ipython3",
   "version": "3.6.5"
  }
 },
 "nbformat": 4,
 "nbformat_minor": 2
}
