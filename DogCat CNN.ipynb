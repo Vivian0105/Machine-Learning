{
 "cells": [
  {
   "cell_type": "code",
   "execution_count": 1,
   "metadata": {},
   "outputs": [
    {
     "name": "stderr",
     "output_type": "stream",
     "text": [
      "C:\\Users\\huimi\\Anaconda3\\lib\\site-packages\\h5py\\__init__.py:36: FutureWarning: Conversion of the second argument of issubdtype from `float` to `np.floating` is deprecated. In future, it will be treated as `np.float64 == np.dtype(float).type`.\n",
      "  from ._conv import register_converters as _register_converters\n"
     ]
    }
   ],
   "source": [
    "import numpy as np\n",
    "import pandas as pd\n",
    "import matplotlib.pyplot as plt\n",
    "from sklearn.metrics import accuracy_score\n",
    "import pickle\n",
    "import math\n",
    "from sklearn.utils import shuffle\n",
    "import tensorflow as tf\n",
    "from tensorflow.keras.models import Sequential\n",
    "from tensorflow.keras.layers import Dense, Dropout, Activation, Flatten, Conv2D,MaxPooling2D\n",
    "from sklearn.model_selection import train_test_split\n",
    "import time"
   ]
  },
  {
   "cell_type": "code",
   "execution_count": 2,
   "metadata": {},
   "outputs": [
    {
     "data": {
      "text/plain": [
       "(24946, 50, 50, 1)"
      ]
     },
     "execution_count": 2,
     "metadata": {},
     "output_type": "execute_result"
    }
   ],
   "source": [
    "pickle_in=open(\"DogCatX.pickle\",'rb')\n",
    "DogCatX=pickle.load(pickle_in)\n",
    "pickle_in.close()\n",
    "pickle_in=open('DogCaty.pickle','rb')\n",
    "DogCaty=pickle.load(pickle_in)\n",
    "pickle_in.close()\n",
    "DogCatX = np.array(DogCatX).reshape(-1, 50, 50, 1)\n",
    "DogCatX.shape"
   ]
  },
  {
   "cell_type": "code",
   "execution_count": 3,
   "metadata": {},
   "outputs": [],
   "source": [
    "DogCatX,DogCaty=shuffle(DogCatX,DogCaty,random_state=0)\n",
    "X_train,X_test,y_train,y_test=train_test_split(DogCatX,DogCaty,random_state=5,test_size=0.25)\n",
    "y_train=np.array(y_train)\n",
    "y_test=np.array(y_test)\n",
    "X_train=tf.keras.utils.normalize(X_train,axis=1)\n",
    "X_test=tf.keras.utils.normalize(X_test,axis=1)"
   ]
  },
  {
   "cell_type": "code",
   "execution_count": 5,
   "metadata": {},
   "outputs": [
    {
     "name": "stdout",
     "output_type": "stream",
     "text": [
      "Epoch 1/10\n",
      "3741/3741 [==============================] - 20s 5ms/step - loss: 0.6865 - acc: 0.5370\n",
      "Epoch 2/10\n",
      "3741/3741 [==============================] - 22s 6ms/step - loss: 0.6516 - acc: 0.6140\n",
      "Epoch 3/10\n",
      "3741/3741 [==============================] - 21s 6ms/step - loss: 0.6213 - acc: 0.6517\n",
      "Epoch 4/10\n",
      "3741/3741 [==============================] - 21s 6ms/step - loss: 0.6210 - acc: 0.6656: 4s - los\n",
      "Epoch 5/10\n",
      "3741/3741 [==============================] - 22s 6ms/step - loss: 0.5832 - acc: 0.6950\n",
      "Epoch 6/10\n",
      "3741/3741 [==============================] - 22s 6ms/step - loss: 0.5547 - acc: 0.7148\n",
      "Epoch 7/10\n",
      "3741/3741 [==============================] - 22s 6ms/step - loss: 0.5183 - acc: 0.7506\n",
      "Epoch 8/10\n",
      "3741/3741 [==============================] - 21s 6ms/step - loss: 0.4999 - acc: 0.7594\n",
      "Epoch 9/10\n",
      "3741/3741 [==============================] - 23s 6ms/step - loss: 0.4545 - acc: 0.7872\n",
      "Epoch 10/10\n",
      "3741/3741 [==============================] - 22s 6ms/step - loss: 0.4174 - acc: 0.8046\n",
      "3741/3741 [==============================] - 7s 2ms/step\n",
      "6237/6237 [==============================] - 11s 2ms/step\n",
      "Epoch 1/10\n",
      "7483/7483 [==============================] - 40s 5ms/step - loss: 0.6864 - acc: 0.5426\n",
      "Epoch 2/10\n",
      "7483/7483 [==============================] - 40s 5ms/step - loss: 0.6739 - acc: 0.5809\n",
      "Epoch 3/10\n",
      "7483/7483 [==============================] - 39s 5ms/step - loss: 0.6395 - acc: 0.6280\n",
      "Epoch 4/10\n",
      "7483/7483 [==============================] - 39s 5ms/step - loss: 0.6099 - acc: 0.6746\n",
      "Epoch 5/10\n",
      "7483/7483 [==============================] - 39s 5ms/step - loss: 0.5832 - acc: 0.6997\n",
      "Epoch 6/10\n",
      "7483/7483 [==============================] - 39s 5ms/step - loss: 0.5539 - acc: 0.7190\n",
      "Epoch 7/10\n",
      "7483/7483 [==============================] - 39s 5ms/step - loss: 0.5321 - acc: 0.7394\n",
      "Epoch 8/10\n",
      "7483/7483 [==============================] - 39s 5ms/step - loss: 0.5078 - acc: 0.7526\n",
      "Epoch 9/10\n",
      "7483/7483 [==============================] - 39s 5ms/step - loss: 0.4853 - acc: 0.7661\n",
      "Epoch 10/10\n",
      "7483/7483 [==============================] - 39s 5ms/step - loss: 0.4656 - acc: 0.7824\n",
      "7483/7483 [==============================] - 13s 2ms/step\n",
      "6237/6237 [==============================] - 11s 2ms/step\n",
      "Epoch 1/10\n",
      "11225/11225 [==============================] - 59s 5ms/step - loss: 0.6465 - acc: 0.6265\n",
      "Epoch 2/10\n",
      "11225/11225 [==============================] - 59s 5ms/step - loss: 0.5866 - acc: 0.6936\n",
      "Epoch 3/10\n",
      "11225/11225 [==============================] - 59s 5ms/step - loss: 0.5310 - acc: 0.7420\n",
      "Epoch 4/10\n",
      "11225/11225 [==============================] - 59s 5ms/step - loss: 0.4989 - acc: 0.7585\n",
      "Epoch 5/10\n",
      "11225/11225 [==============================] - 60s 5ms/step - loss: 0.4769 - acc: 0.7784\n",
      "Epoch 6/10\n",
      "11225/11225 [==============================] - 58s 5ms/step - loss: 0.4518 - acc: 0.7914\n",
      "Epoch 7/10\n",
      "11225/11225 [==============================] - 58s 5ms/step - loss: 0.4298 - acc: 0.8029\n",
      "Epoch 8/10\n",
      "11225/11225 [==============================] - 59s 5ms/step - loss: 0.4032 - acc: 0.8163\n",
      "Epoch 9/10\n",
      "11225/11225 [==============================] - 58s 5ms/step - loss: 0.3920 - acc: 0.8222\n",
      "Epoch 10/10\n",
      "11225/11225 [==============================] - 58s 5ms/step - loss: 0.3644 - acc: 0.8373\n",
      "11225/11225 [==============================] - 19s 2ms/step\n",
      "6237/6237 [==============================] - 11s 2ms/step\n",
      "Epoch 1/10\n",
      "14967/14967 [==============================] - 78s 5ms/step - loss: 0.6511 - acc: 0.6140\n",
      "Epoch 2/10\n",
      "14967/14967 [==============================] - 78s 5ms/step - loss: 0.5726 - acc: 0.7070: 3s - los\n",
      "Epoch 3/10\n",
      "14967/14967 [==============================] - 89s 6ms/step - loss: 0.5302 - acc: 0.7387\n",
      "Epoch 4/10\n",
      "14967/14967 [==============================] - 89s 6ms/step - loss: 0.4971 - acc: 0.7603\n",
      "Epoch 5/10\n",
      "14967/14967 [==============================] - 85s 6ms/step - loss: 0.4803 - acc: 0.7734\n",
      "Epoch 6/10\n",
      "14967/14967 [==============================] - 83s 6ms/step - loss: 0.4651 - acc: 0.7812\n",
      "Epoch 7/10\n",
      "14967/14967 [==============================] - 87s 6ms/step - loss: 0.4475 - acc: 0.7923\n",
      "Epoch 8/10\n",
      "14967/14967 [==============================] - 81s 5ms/step - loss: 0.4306 - acc: 0.8000\n",
      "Epoch 9/10\n",
      "14967/14967 [==============================] - 81s 5ms/step - loss: 0.4222 - acc: 0.8016\n",
      "Epoch 10/10\n",
      "14967/14967 [==============================] - 78s 5ms/step - loss: 0.4020 - acc: 0.8143\n",
      "14967/14967 [==============================] - 28s 2ms/step\n",
      "6237/6237 [==============================] - 14s 2ms/step\n",
      "Epoch 1/10\n",
      "18709/18709 [==============================] - 108s 6ms/step - loss: 0.6277 - acc: 0.6436\n",
      "Epoch 2/10\n",
      "18709/18709 [==============================] - 108s 6ms/step - loss: 0.5471 - acc: 0.7283\n",
      "Epoch 3/10\n",
      "18709/18709 [==============================] - 108s 6ms/step - loss: 0.5121 - acc: 0.7532 \n",
      "Epoch 4/10\n",
      "18709/18709 [==============================] - 104s 6ms/step - loss: 0.4932 - acc: 0.7701\n",
      "Epoch 5/10\n",
      "18709/18709 [==============================] - 106s 6ms/step - loss: 0.4702 - acc: 0.7814\n",
      "Epoch 6/10\n",
      "18709/18709 [==============================] - 101s 5ms/step - loss: 0.4491 - acc: 0.7918\n",
      "Epoch 7/10\n",
      "18709/18709 [==============================] - 101s 5ms/step - loss: 0.4359 - acc: 0.7972\n",
      "Epoch 8/10\n",
      "18709/18709 [==============================] - 105s 6ms/step - loss: 0.4207 - acc: 0.8076\n",
      "Epoch 9/10\n",
      "18709/18709 [==============================] - 101s 5ms/step - loss: 0.4059 - acc: 0.8141\n",
      "Epoch 10/10\n",
      "18709/18709 [==============================] - 106s 6ms/step - loss: 0.3955 - acc: 0.8212\n",
      "18709/18709 [==============================] - 36s 2ms/step\n",
      "6237/6237 [==============================] - 13s 2ms/step\n"
     ]
    }
   ],
   "source": [
    "train_size=list(range(2,11,2))\n",
    "train_size[:]=[x/10 for x in train_size]\n",
    "errorate_train=[]\n",
    "errorate_test=[]\n",
    "learn_time=[]\n",
    "for n in train_size:\n",
    "    X_train,y_train=shuffle(X_train,y_train,random_state=0)\n",
    "    X_train_sub=X_train[:int(len(X_train)*n)]\n",
    "    y_train_sub=y_train[:int(len(y_train)*n)]\n",
    "    time_start=time.clock()\n",
    "    model=Sequential()\n",
    "    model.add(Conv2D(64,(3,3),input_shape=X_train_sub.shape[1:]))\n",
    "    model.add(Activation('relu'))\n",
    "    model.add(MaxPooling2D(pool_size=(2,2)))\n",
    "    model.add(Conv2D(64,(3,3),input_shape=X_train_sub.shape[1:]))\n",
    "    model.add(Activation('relu'))\n",
    "    model.add(MaxPooling2D(pool_size=(2,2)))\n",
    "    model.add(Flatten())\n",
    "    model.add(Dense(64))\n",
    "    model.add(Dense(1))\n",
    "    model.add(Activation('sigmoid'))\n",
    "    model.compile(loss='binary_crossentropy',\n",
    "                 optimizer='adam',\n",
    "                 metrics=['accuracy'])\n",
    "    model.fit(X_train_sub,y_train_sub,batch_size=32,epochs=10)  \n",
    "    errorate_train.append(1-model.evaluate(X_train_sub,y_train_sub)[1])\n",
    "    errorate_test.append(1-model.evaluate(X_test,y_test)[1])  \n",
    "    learn_time.append(time.clock()-time_start)    "
   ]
  },
  {
   "cell_type": "code",
   "execution_count": 6,
   "metadata": {},
   "outputs": [
    {
     "data": {
      "image/png": "[encoded data removed]",
      "text/plain": [
       "<Figure size 432x288 with 1 Axes>"
      ]
     },
     "metadata": {},
     "output_type": "display_data"
    }
   ],
   "source": [
    "plt.plot(train_size,errorate_train,'r--',train_size,errorate_test,'b--')\n",
    "plt.axis([0,1.1,0,1])\n",
    "plt.ylabel('Error Rate')\n",
    "plt.xlabel('Training Size')\n",
    "plt.title('Convolutional Nueral Network Result')\n",
    "plt.savefig('E:/Machine Learning/HW1/DogCat/DogCat_CNN_Error.png')"
   ]
  },
  {
   "cell_type": "code",
   "execution_count": 8,
   "metadata": {},
   "outputs": [
    {
     "data": {
      "image/png": "[encoded data removed]",
      "text/plain": [
       "<Figure size 432x288 with 1 Axes>"
      ]
     },
     "metadata": {},
     "output_type": "display_data"
    }
   ],
   "source": [
    "plt.plot(train_size,learn_time,'go')\n",
    "plt.ylabel('Time (s)')\n",
    "plt.xlabel('Training Size')\n",
    "plt.axis([0,1.1,0,1200])\n",
    "plt.title('Convolutional Nueral Network Result')\n",
    "plt.savefig('E:/Machine Learning/HW1/DogCat/DogCat_CNN_T.png')"
   ]
  },
  {
   "cell_type": "code",
   "execution_count": 9,
   "metadata": {},
   "outputs": [
    {
     "data": {
      "text/plain": [
       "[0.3349366681935486,\n",
       " 0.2894019561833022,\n",
       " 0.24531024527201883,\n",
       " 0.23456790128235105,\n",
       " 0.2227032226649962]"
      ]
     },
     "execution_count": 9,
     "metadata": {},
     "output_type": "execute_result"
    }
   ],
   "source": [
    "errorate_test"
   ]
  },
  {
   "cell_type": "code",
   "execution_count": 10,
   "metadata": {},
   "outputs": [
    {
     "name": "stdout",
     "output_type": "stream",
     "text": [
      "Train on 18709 samples, validate on 6237 samples\n",
      "Epoch 1/10\n",
      "18709/18709 [==============================] - 117s 6ms/step - loss: 0.6403 - acc: 0.6306 - val_loss: 0.5862 - val_acc: 0.7026\n",
      "Epoch 2/10\n",
      "18709/18709 [==============================] - 111s 6ms/step - loss: 0.5570 - acc: 0.7226 - val_loss: 0.5198 - val_acc: 0.7489\n",
      "Epoch 3/10\n",
      "18709/18709 [==============================] - 108s 6ms/step - loss: 0.5083 - acc: 0.7549 - val_loss: 0.5301 - val_acc: 0.7420\n",
      "Epoch 4/10\n",
      "18709/18709 [==============================] - 107s 6ms/step - loss: 0.4826 - acc: 0.7732 - val_loss: 0.5133 - val_acc: 0.7480\n",
      "Epoch 5/10\n",
      "18709/18709 [==============================] - 107s 6ms/step - loss: 0.4705 - acc: 0.7782 - val_loss: 0.5518 - val_acc: 0.7350\n",
      "Epoch 6/10\n",
      "18709/18709 [==============================] - 107s 6ms/step - loss: 0.4494 - acc: 0.7899 - val_loss: 0.5221 - val_acc: 0.7438: 0s - loss: 0.4494 - acc: 0.789\n",
      "Epoch 7/10\n",
      "18709/18709 [==============================] - 107s 6ms/step - loss: 0.4351 - acc: 0.8008 - val_loss: 0.5173 - val_acc: 0.7558\n",
      "Epoch 8/10\n",
      "18709/18709 [==============================] - 107s 6ms/step - loss: 0.4189 - acc: 0.8070 - val_loss: 0.5041 - val_acc: 0.7633\n",
      "Epoch 9/10\n",
      "18709/18709 [==============================] - 106s 6ms/step - loss: 0.4053 - acc: 0.8155 - val_loss: 0.5306 - val_acc: 0.7598\n",
      "Epoch 10/10\n",
      "18709/18709 [==============================] - 107s 6ms/step - loss: 0.3922 - acc: 0.8248 - val_loss: 0.4942 - val_acc: 0.7747\n"
     ]
    }
   ],
   "source": [
    "    model=Sequential()\n",
    "    model.add(Conv2D(64,(3,3),input_shape=X_train.shape[1:]))\n",
    "    model.add(Activation('relu'))\n",
    "    model.add(MaxPooling2D(pool_size=(2,2)))\n",
    "    model.add(Conv2D(64,(3,3),input_shape=X_train.shape[1:]))\n",
    "    model.add(Activation('relu'))\n",
    "    model.add(MaxPooling2D(pool_size=(2,2)))\n",
    "    model.add(Flatten())\n",
    "    model.add(Dense(64))\n",
    "    model.add(Dense(1))\n",
    "    model.add(Activation('sigmoid'))\n",
    "    model.compile(loss='binary_crossentropy',\n",
    "                 optimizer='adam',\n",
    "                 metrics=['accuracy'])\n",
    "    history=model.fit(X_train,y_train,batch_size=32,epochs=10,validation_data = (X_test, y_test))  "
   ]
  },
  {
   "cell_type": "code",
   "execution_count": 11,
   "metadata": {},
   "outputs": [],
   "source": [
    "epoch=list(range(1,11))\n",
    "acc=[1-x for x in history.history['acc']]\n",
    "test_acc=[1-x for x in history.history['val_acc']]"
   ]
  },
  {
   "cell_type": "code",
   "execution_count": 12,
   "metadata": {},
   "outputs": [
    {
     "data": {
      "image/png": "[encoded data removed]",
      "text/plain": [
       "<Figure size 432x288 with 1 Axes>"
      ]
     },
     "metadata": {},
     "output_type": "display_data"
    }
   ],
   "source": [
    "plt.plot(epoch,acc,'y--',epoch,test_acc,'m--')\n",
    "plt.axis([0,11,0,1])\n",
    "plt.ylabel('Error Rate')\n",
    "plt.xlabel('Epoch')\n",
    "plt.title('Convolutional Nueral Network Result')\n",
    "plt.savefig('E:/Machine Learning/HW1/DogCat/DogCat_CNN_Epoch_Error.png')"
   ]
  },
  {
   "cell_type": "code",
   "execution_count": null,
   "metadata": {},
   "outputs": [],
   "source": []
  }
 ],
 "metadata": {
  "kernelspec": {
   "display_name": "Python 3",
   "language": "python",
   "name": "python3"
  },
  "language_info": {
   "codemirror_mode": {
    "name": "ipython",
    "version": 3
   },
   "file_extension": ".py",
   "mimetype": "text/x-python",
   "name": "python",
   "nbconvert_exporter": "python",
   "pygments_lexer": "ipython3",
   "version": "3.6.5"
  }
 },
 "nbformat": 4,
 "nbformat_minor": 2
}
