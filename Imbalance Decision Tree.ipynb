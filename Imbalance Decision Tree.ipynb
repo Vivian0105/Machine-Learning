{
 "cells": [
  {
   "cell_type": "code",
   "execution_count": 28,
   "metadata": {},
   "outputs": [],
   "source": [
    "from imblearn.under_sampling import RandomUnderSampler\n",
    "from collections import Counter\n",
    "import numpy as np\n",
    "import pandas as pd\n",
    "import matplotlib.pyplot as plt\n",
    "from sklearn.metrics import accuracy_score\n",
    "from sklearn.utils import shuffle\n",
    "from sklearn.tree import DecisionTreeClassifier\n",
    "from sklearn import tree\n",
    "import math\n",
    "from sklearn.model_selection import train_test_split\n",
    "from imblearn.combine import SMOTETomek\n",
    "import time"
   ]
  },
  {
   "cell_type": "code",
   "execution_count": 2,
   "metadata": {},
   "outputs": [],
   "source": [
    "y=pd.read_csv('allstate_labels_2007.csv',low_memory=False)\n",
    "y=y['loan_status']\n",
    "X=pd.read_csv('allstate_filtered_loans_2007.csv',low_memory=False)\n"
   ]
  },
  {
   "cell_type": "code",
   "execution_count": 3,
   "metadata": {},
   "outputs": [],
   "source": [
    "X,y=shuffle(X,y,random_state=0)\n",
    "X_train_origin,X_test,y_train_origin,y_test=train_test_split(X,y,random_state=5,test_size=0.2)\n",
    "X_train=X_train_origin\n",
    "y_train=y_train_origin"
   ]
  },
  {
   "cell_type": "code",
   "execution_count": 23,
   "metadata": {},
   "outputs": [],
   "source": [
    "smt = SMOTETomek(1)\n",
    "X_train,y_train = smt.fit_resample(X_train_origin, y_train_origin)"
   ]
  },
  {
   "cell_type": "code",
   "execution_count": 29,
   "metadata": {},
   "outputs": [],
   "source": [
    "train_size=list(range(1,11))\n",
    "train_size[:]=[x/10 for x in train_size]\n",
    "errorate_train=[]\n",
    "errorate_test=[]\n",
    "FP_train=[]\n",
    "FP_test=[]\n",
    "train_time=[]\n",
    "for n in train_size:\n",
    "    X_train,y_train=shuffle(X_train,y_train,random_state=0)\n",
    "    X_train_sub=X_train[:int(len(X_train)*n)]\n",
    "    y_train_sub=y_train[:int(len(y_train)*n)]\n",
    "    time_start=time.clock()\n",
    "    clf_gini=DecisionTreeClassifier(criterion = \"gini\",max_depth=30)\n",
    "    clf_gini.fit(X_train_sub,y_train_sub)\n",
    "    errorate_train.append(1-accuracy_score(y_train_sub,clf_gini.predict(X_train_sub)))\n",
    "    errorate_test.append(1-accuracy_score(y_test,clf_gini.predict(X_test)))\n",
    "    error_train=clf_gini.predict(X_train_sub)-y_train_sub\n",
    "    FP_train.append(Counter(error_train)[1]/Counter(y_train_sub)[0])\n",
    "    error_test=clf_gini.predict(X_test)-y_test\n",
    "    FP_test.append(Counter(error_test)[1]/Counter(y_test)[0])\n",
    "    train_time.append(time.clock()-time_start)\n"
   ]
  },
  {
   "cell_type": "code",
   "execution_count": 38,
   "metadata": {},
   "outputs": [
    {
     "data": {
      "image/png": "[encoded data removed]",
      "text/plain": [
       "<Figure size 432x288 with 1 Axes>"
      ]
     },
     "metadata": {},
     "output_type": "display_data"
    }
   ],
   "source": [
    "plt.plot(train_size,errorate_train,'r--',train_size,errorate_test,'b--',train_size,FP_train, 'r^', train_size,FP_test, 'b^')\n",
    "plt.axis([0,1.1,0,1])\n",
    "plt.ylabel('Error Rate')\n",
    "plt.xlabel('Training Size')\n",
    "plt.title('Decision Tree Result')\n",
    "plt.savefig('E:/Machine Learning/HW1/Bank/Bank_DT_Error.png')"
   ]
  },
  {
   "cell_type": "code",
   "execution_count": 31,
   "metadata": {},
   "outputs": [
    {
     "data": {
      "image/png": "[encoded data removed]",
      "text/plain": [
       "<Figure size 432x288 with 1 Axes>"
      ]
     },
     "metadata": {},
     "output_type": "display_data"
    }
   ],
   "source": [
    "plt.plot(train_size,train_time,'go')\n",
    "plt.axis([0,1.1,0,2])\n",
    "plt.ylabel('Time (s)')\n",
    "plt.xlabel('Training Size')\n",
    "plt.title('Decision Tree Result')\n",
    "plt.savefig('E:/Machine Learning/HW1/Bank/Bank_DT_T.png')"
   ]
  },
  {
   "cell_type": "code",
   "execution_count": 14,
   "metadata": {},
   "outputs": [],
   "source": [
    "from sklearn.model_selection import RandomizedSearchCV"
   ]
  },
  {
   "cell_type": "code",
   "execution_count": 21,
   "metadata": {},
   "outputs": [],
   "source": [
    "param_dist={ \n",
    "            'criterion':['gini','entropy'],\n",
    "            'min_samples_leaf':[0.005,0.01,0.015,0.02,0.025]  \n",
    "}\n",
    "DecisionTree=DecisionTreeClassifier()\n",
    "DT_cv=RandomizedSearchCV(DecisionTree,param_dist,cv=5)"
   ]
  },
  {
   "cell_type": "code",
   "execution_count": 22,
   "metadata": {},
   "outputs": [
    {
     "data": {
      "text/plain": [
       "RandomizedSearchCV(cv=5, error_score='raise-deprecating',\n",
       "          estimator=DecisionTreeClassifier(class_weight=None, criterion='gini', max_depth=None,\n",
       "            max_features=None, max_leaf_nodes=None,\n",
       "            min_impurity_decrease=0.0, min_impurity_split=None,\n",
       "            min_samples_leaf=1, min_samples_split=2,\n",
       "            min_weight_fraction_leaf=0.0, presort=False, random_state=None,\n",
       "            splitter='best'),\n",
       "          fit_params=None, iid='warn', n_iter=10, n_jobs=None,\n",
       "          param_distributions={'criterion': ['gini', 'entropy'], 'min_samples_leaf': [0.005, 0.01, 0.015, 0.02, 0.025]},\n",
       "          pre_dispatch='2*n_jobs', random_state=None, refit=True,\n",
       "          return_train_score='warn', scoring=None, verbose=0)"
      ]
     },
     "execution_count": 22,
     "metadata": {},
     "output_type": "execute_result"
    }
   ],
   "source": [
    "DT_cv.fit(X_train,y_train)"
   ]
  },
  {
   "cell_type": "code",
   "execution_count": 23,
   "metadata": {},
   "outputs": [
    {
     "data": {
      "text/plain": [
       "{'min_samples_leaf': 0.005, 'criterion': 'entropy'}"
      ]
     },
     "execution_count": 23,
     "metadata": {},
     "output_type": "execute_result"
    }
   ],
   "source": [
    "DT_cv.best_params_"
   ]
  },
  {
   "cell_type": "code",
   "execution_count": 24,
   "metadata": {},
   "outputs": [
    {
     "data": {
      "text/plain": [
       "0.13379715273867931"
      ]
     },
     "execution_count": 24,
     "metadata": {},
     "output_type": "execute_result"
    }
   ],
   "source": [
    "1-DT_cv.best_score_"
   ]
  },
  {
   "cell_type": "code",
   "execution_count": 4,
   "metadata": {},
   "outputs": [],
   "source": [
    "from imblearn.under_sampling import RandomUnderSampler\n",
    "res=RandomUnderSampler()"
   ]
  },
  {
   "cell_type": "code",
   "execution_count": 5,
   "metadata": {},
   "outputs": [],
   "source": [
    "X_res,y_res=res.fit_resample(X_train_origin, y_train_origin)"
   ]
  },
  {
   "cell_type": "code",
   "execution_count": 21,
   "metadata": {},
   "outputs": [],
   "source": [
    "    clf_gini=DecisionTreeClassifier(criterion = \"gini\",max_depth=6)\n",
    "    clf_gini.fit(X_res,y_res)\n",
    "    errorate_train_res=1-accuracy_score(y_res,clf_gini.predict(X_res))\n",
    "    errorate_test_res=1-accuracy_score(y_test,clf_gini.predict(X_test))\n",
    "    error_train=clf_gini.predict(X_res)-y_res\n",
    "    FP_train_res=Counter(error_train)[1]/Counter(y_res)[0]\n",
    "    error_test=clf_gini.predict(X_test)-y_test\n",
    "    FP_test_res=Counter(error_test)[1]/Counter(y_test)[0]"
   ]
  },
  {
   "cell_type": "code",
   "execution_count": 22,
   "metadata": {},
   "outputs": [
    {
     "name": "stdout",
     "output_type": "stream",
     "text": [
      "0.40401034928848645 0.33026678932842685 0.34905442804428044 0.31411439114391143\n"
     ]
    }
   ],
   "source": [
    "print(errorate_test_res,FP_test_res,errorate_train_res,FP_train_res)"
   ]
  },
  {
   "cell_type": "code",
   "execution_count": 26,
   "metadata": {},
   "outputs": [
    {
     "name": "stdout",
     "output_type": "stream",
     "text": [
      "0.23260025873221213 0.7589696412143514 0.00018086089787383575 0.00024114786383183957\n"
     ]
    }
   ],
   "source": [
    "print(errorate_test[-1],FP_test[-1],errorate_train[-1],FP_train[-1])"
   ]
  },
  {
   "cell_type": "code",
   "execution_count": null,
   "metadata": {},
   "outputs": [],
   "source": []
  }
 ],
 "metadata": {
  "kernelspec": {
   "display_name": "Python 3",
   "language": "python",
   "name": "python3"
  },
  "language_info": {
   "codemirror_mode": {
    "name": "ipython",
    "version": 3
   },
   "file_extension": ".py",
   "mimetype": "text/x-python",
   "name": "python",
   "nbconvert_exporter": "python",
   "pygments_lexer": "ipython3",
   "version": "3.6.5"
  }
 },
 "nbformat": 4,
 "nbformat_minor": 2
}
